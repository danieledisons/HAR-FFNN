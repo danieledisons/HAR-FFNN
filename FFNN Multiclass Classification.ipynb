{
 "cells": [
  {
   "cell_type": "markdown",
   "metadata": {
    "heading_collapsed": true
   },
   "source": [
    "# Initialisation"
   ]
  },
  {
   "cell_type": "markdown",
   "metadata": {
    "heading_collapsed": true,
    "hidden": true
   },
   "source": [
    "## Imports and General Functions"
   ]
  },
  {
   "cell_type": "code",
   "execution_count": 2,
   "metadata": {
    "ExecuteTime": {
     "end_time": "2022-01-30T02:40:24.917892Z",
     "start_time": "2022-01-30T02:40:24.880892Z"
    },
    "hidden": true,
    "init_cell": true
   },
   "outputs": [
    {
     "data": {
      "text/html": [
       "<style>.container { width:99% !important; }</style>"
      ],
      "text/plain": [
       "<IPython.core.display.HTML object>"
      ]
     },
     "metadata": {},
     "output_type": "display_data"
    }
   ],
   "source": [
    "def IsNotebook():\n",
    "    \"\"\"Indicate the shell name, whether code is running on a notebook, and if so whether it's hosted on googlecolab.\"\"\"\n",
    "    isnotebook, isgooglecolab, shell = None, None, None\n",
    "    try:\n",
    "        shell = get_ipython().__class__.__name__\n",
    "        if shell == 'ZMQInteractiveShell':\n",
    "            isnotebook, isgooglecolab = True, False   # Jupyter notebook or qtconsole\n",
    "        elif shell == \"Shell\":\n",
    "            isnotebook, isgooglecolab = True, True    # Google Colab\n",
    "        elif shell == 'TerminalInteractiveShell':\n",
    "            isnotebook, isgooglecolab = False, False  # Terminal running IPython\n",
    "        else:\n",
    "            isnotebook, isgooglecolab = False, False  # Other type (?)\n",
    "    except NameError:\n",
    "        isnotebook, isgooglecolab = False, False      # Probably standard Python interpreter\n",
    "    return shell, isnotebook, isgooglecolab\n",
    "shell, isnotebook, isgooglecolab = IsNotebook()\n",
    "if isnotebook and not isgooglecolab: #If we are in a notebook but not on google colab, let's use all the available screen\n",
    "    from IPython.display import display, HTML\n",
    "    display(HTML(\"<style>.container { width:99% !important; }</style>\"))\n",
    "    if not isgooglecolab:\n",
    "        try: #Using the jedi completer takes too long to complete words\n",
    "            %config Completer.use_jedi = False\n",
    "        except:\n",
    "            pass\n",
    "if isgooglecolab: #If we are in a google colab environment, we probably need to mount our google drive\n",
    "    try:\n",
    "        from google.colab import drive\n",
    "        drive.mount('/content/drive')\n",
    "    except Exception as e:\n",
    "        print(e)"
   ]
  },
  {
   "cell_type": "code",
   "execution_count": 36,
   "metadata": {
    "ExecuteTime": {
     "end_time": "2022-01-30T02:40:30.001892Z",
     "start_time": "2022-01-30T02:40:25.095392Z"
    },
    "hidden": true,
    "init_cell": true,
    "scrolled": true
   },
   "outputs": [
    {
     "name": "stdout",
     "output_type": "stream",
     "text": [
      "Python version: 3.8.13 (default, Mar 28 2022, 06:59:08) [MSC v.1916 64 bit (AMD64)]\n",
      "Pickle version: 4.0\n",
      "Dill version: 0.3.4\n",
      "Numpy version: 1.21.5\n",
      "\n",
      "PyTorch v1.11.0\n",
      "CUDA device available: True\n",
      "1 devices available\n",
      "\tNVIDIA GeForce RTX 2080 SUPER\n",
      "cuda: 0\n",
      "Num threads set to: 48\n",
      "device= cuda\n"
     ]
    }
   ],
   "source": [
    "#######################\n",
    "### General Imports ###\n",
    "import os #Making sure we're using all CPU cores for faster calculations\n",
    "IsWindows = os.name == 'nt'\n",
    "os.environ[\"OMP_NUM_THREADS\"] = str(os.cpu_count())\n",
    "os.environ[\"OPENBLAS_NUM_THREADS\"] = str(os.cpu_count())\n",
    "os.environ[\"MKL_NUM_THREADS\"] = str(os.cpu_count())\n",
    "os.environ[\"VECLIB_MAXIMUM_THREADS\"] = str(os.cpu_count())\n",
    "os.environ[\"NUMEXPR_NUM_THREADS\"] = str(os.cpu_count())\n",
    "\n",
    "import sys #Printing version for posterity\n",
    "print(\"Python version:\", sys.version)\n",
    "\n",
    "try: #Allows saving and loading of variables\n",
    "    import pickle5 as pickle\n",
    "except:\n",
    "    import pickle\n",
    "try: #Printing version for posterity\n",
    "    print(\"Pickle version:\", pickle.__version__)\n",
    "except:\n",
    "    print(\"Pickle version:\", pickle.format_version)\n",
    "    \n",
    "import dill as dill #Allows even deeper saving (associated classes, etc., as well)\n",
    "print(\"Dill version:\", dill.__version__)\n",
    "\n",
    "import warnings #Ability to create custom warnings, like warnings.warn(\"deprecated\", DeprecationWarning)\n",
    "import itertools #Needed for Confusion Matrix\n",
    "\n",
    "if IsWindows:\n",
    "    import winsound #Uses the computer's speakers to alert you (e.g. when training is done)\n",
    "from tqdm import tqdm #Iterations can show a progress bar (like in Training)\n",
    "from collections import Counter #Allows for frequency counting similar with R's \"table\"\n",
    "from collections import OrderedDict\n",
    "#######################\n",
    "\n",
    "\n",
    "#####################\n",
    "### Date and Time ###\n",
    "import time #Gets the current time\n",
    "from pytz import timezone #Allows for timezones to be set. #pytz.all_timezones\n",
    "from datetime import datetime #Allows for Datetime objects like current Datetime. #datetime.fromisoformat('2021-05-24')\n",
    "#There's also: np.datetime64('2021-08-01')\n",
    "#####################\n",
    "\n",
    "\n",
    "###################\n",
    "### Mathematics ###\n",
    "import numpy as np #Working with numeric arrays\n",
    "print(\"Numpy version:\", np.__version__)\n",
    "###################\n",
    "\n",
    "\n",
    "#######################################\n",
    "### Statistics and Machine Learning ###\n",
    "#Utility\n",
    "from sklearn.preprocessing import OrdinalEncoder, StandardScaler, MinMaxScaler #Various ways of scaling the data\n",
    "from sklearn.model_selection import train_test_split\n",
    "\n",
    "#Metrics\n",
    "from sklearn.metrics import f1_score, precision_score, recall_score, RocCurveDisplay, PrecisionRecallDisplay\n",
    "from sklearn.metrics import roc_auc_score\n",
    "from sklearn.metrics import confusion_matrix\n",
    "#######################################\n",
    "\n",
    "\n",
    "##################\n",
    "### Dataframes ###\n",
    "import pandas as pd\n",
    "##################\n",
    "\n",
    "\n",
    "#############\n",
    "### Plots ###\n",
    "import matplotlib.pyplot as plt #Allows use of Pyplot plots\n",
    "\n",
    "import seaborn as sns #Allows use of Seaborn plots\n",
    "sns.set() #Sets default plot theme\n",
    "\n",
    "from matplotlib.ticker import AutoMinorLocator, MultipleLocator\n",
    "#############\n",
    "\n",
    "\n",
    "#########################\n",
    "### Images / Pictures ###\n",
    "from PIL import Image\n",
    "#########################\n",
    "\n",
    "\n",
    "######################\n",
    "### String or Text ###\n",
    "import json #Can encode or decode JSON string objects\n",
    "import string #Provides functions for strings\n",
    "######################\n",
    "\n",
    "\n",
    "###################################\n",
    "### Files, Directories, Folders ###\n",
    "from pathlib import Path\n",
    "###################################\n",
    "\n",
    "\n",
    "################################\n",
    "### Neural Network Libraries ###\n",
    "#General\n",
    "import torch\n",
    "import torch.nn as nn\n",
    "# from torchsummary import summary\n",
    "if isgooglecolab:\n",
    "    !pip install torchinfo\n",
    "from torchinfo import summary\n",
    "\n",
    "#Data\n",
    "from torch.utils.data import Dataset, TensorDataset\n",
    "\n",
    "#Images\n",
    "from torchvision import datasets, transforms, models\n",
    "\n",
    "#Info and configuration\n",
    "print()\n",
    "print(f\"PyTorch v{torch.__version__}\")\n",
    "IS_GPU_AVAILABLE = torch.cuda.is_available()\n",
    "print(f\"CUDA device available: {IS_GPU_AVAILABLE}\")\n",
    "if (torch.cuda.is_available()):\n",
    "    print(f\"{torch.cuda.device_count()} devices available\")\n",
    "    for n in range(torch.cuda.device_count()):\n",
    "        print(\"\\t\" + torch.cuda.get_device_name(n))\n",
    "    print(f\"cuda: {torch.cuda.current_device()}\") #It can give you information like the GPU is not supported\n",
    "print(\"Num threads set to:\", os.cpu_count())\n",
    "torch.set_num_threads(os.cpu_count())\n",
    "################################\n",
    "\n",
    "\n",
    "########################\n",
    "### Useful functions ###\n",
    "if \"OrigFigSize\" not in locals() and \"OrigFigSize\" not in globals(): #Just in case Initialisation is re-run after any of these have chaned\n",
    "    OrigFigSize   = plt.rcParams[\"figure.figsize\"]\n",
    "\n",
    "NonNans = lambda List: List[np.logical_not(np.isnan(List))]\n",
    "LastNonNan = lambda List: NonNans(List)[-1] if np.sum(np.isnan(List)) < len(List) else np.array([]) if type(List) == np.ndarray else []\n",
    "\n",
    "def ZeroANumber(Number, MaxLength, ForceMaxLength = False):\n",
    "    \"\"\"Take a single Number and prepend '0's to it until it meets MaxLength, or if ForceMaxLength then also clip digits from the end until it meets MaxLength.\"\"\"\n",
    "    res = str(Number).zfill(MaxLength)\n",
    "    if ForceMaxLength: res = res[:MaxLength]\n",
    "    return res\n",
    "\n",
    "def SpaceAString(CurString, MaxLength, SpaceTheFront = True, ForceMaxLength = False, ForceRemoveFromFront = False):\n",
    "    \"\"\"Prepend/Append (SpaceTheFront) spaces to CurString until it meets ForceMaxLength or if ForceMaxLength also Clip characters from the beginning/end (ForceRemoveFromFront) until it meets ForceMaxLength.\"\"\"\n",
    "    CurLen = len(CurString)\n",
    "    Result = CurString\n",
    "    \n",
    "    if CurLen < MaxLength:\n",
    "        if SpaceTheFront:\n",
    "            Result = (\" \" * (MaxLength-CurLen)) + CurString\n",
    "        else:\n",
    "            Result = CurString + (\" \" * (MaxLength-CurLen))\n",
    "    elif CurLen > MaxLength and ForceMaxLength:\n",
    "        if ForceRemoveFromFront:\n",
    "            Result = CurString[(CurLen - MaxLength):]\n",
    "        else:\n",
    "            Result = CurString[:-(CurLen - MaxLength)]\n",
    "    return Result\n",
    "\n",
    "def WriteText(TextParsableVar, FullFilePath):\n",
    "    \"\"\"Take a string (or string-parsable variable) and save it as text file on the directory and with a name indicated by FullFilePath.\"\"\"\n",
    "    try:\n",
    "        DirName = Path(FullFilePath).parent.absolute()\n",
    "        os.makedirs(DirName, exist_ok = True)\n",
    "        \n",
    "        FileOptions = open(FullFilePath, \"w\")\n",
    "        FileOptions.writelines(\n",
    "            f\"{TextParsableVar}\"\n",
    "        )\n",
    "    except Exception as e:\n",
    "        print(f\"Exception:\\n{e}\")\n",
    "    finally:\n",
    "        try:\n",
    "            FileOptions.close()\n",
    "        except Exception:\n",
    "            pass\n",
    "SaveText = lambda TextParsableVar, FullFilePath: WriteText(TextParsableVar, FullFilePath) #Alias for WriteText to be the same as Save/Load Variable\n",
    "\n",
    "def ReadText(FullFilePath):\n",
    "    \"\"\"Read the string content of a text file given by FullFilePath and return it as a string.\"\"\"\n",
    "    with open(FullFilePath, \"r+\", encoding = \"utf8\") as io:\n",
    "        TextString = io.read()\n",
    "    return TextString\n",
    "LoadText = lambda FullFilePath: ReadText(FullFilePath) #Alias for ReadText to be the same as Save/Load Variable\n",
    "\n",
    "def SaveVariable(Variable, FileName):\n",
    "    \"\"\"Create the directory path for and pickle Variable under FileName.\"\"\"\n",
    "    DirName = Path(FileName).parent.absolute()\n",
    "    os.makedirs(DirName, exist_ok = True)\n",
    "    with open(FileName, 'wb') as io:\n",
    "        pickle.dump(Variable, io)\n",
    "\n",
    "def SaveVariableDill(Variable, FileName):\n",
    "    \"\"\"Create the directory path for and deep-save Variable under FileName using dill.\"\"\"\n",
    "    DirName = Path(FileName).parent.absolute()\n",
    "    os.makedirs(DirName, exist_ok = True)\n",
    "    with open(FileName, 'wb') as io:\n",
    "        dill.dump(Variable, io)\n",
    "    \n",
    "def LoadVariable(FileName):\n",
    "    \"\"\"Un-pickle a binary file saved under FileName and return it as a variable.\"\"\"\n",
    "    with open(FileName, \"rb\") as io:\n",
    "        Res = pickle.load(io)\n",
    "    return Res\n",
    "\n",
    "def LoadVariableDill(FileName):\n",
    "    \"\"\"Read the content of a binary file saved under FileName and return it as a variable.\"\"\"\n",
    "    with open(FileName, 'rb') as io:\n",
    "        Res = dill.load(io)\n",
    "    return Res\n",
    "\n",
    "def RemLastLine(s):\n",
    "    \"\"\"Remove the last line in the string s.\"\"\"\n",
    "    return s[:s.rfind('\\n')]\n",
    "########################\n",
    "\n",
    "device = \"cuda\" if torch.cuda.is_available() else \"cpu\"\n",
    "# device = \"cpu\" #To FORCE CPU\n",
    "print(\"device=\", device)"
   ]
  },
  {
   "cell_type": "markdown",
   "metadata": {
    "heading_collapsed": true,
    "hidden": true
   },
   "source": [
    "## Architecture"
   ]
  },
  {
   "cell_type": "code",
   "execution_count": 189,
   "metadata": {
    "hidden": true,
    "init_cell": true
   },
   "outputs": [
    {
     "name": "stdout",
     "output_type": "stream",
     "text": [
      "Done\n"
     ]
    }
   ],
   "source": [
    "#FeedForward Neural Network\n",
    "class Net(nn.Module):\n",
    "    def __init__(self, K_Length, num_units, activation, dropout, usebias):\n",
    "        super(Net, self).__init__()\n",
    "        self.K_Length = K_Length\n",
    "        self.num_units = num_units\n",
    "        self.activation = activation\n",
    "        self.dropout = dropout\n",
    "        self.usebias = usebias        \n",
    "        \n",
    "        self.layers = nn.ModuleList([\n",
    "            nn.Linear(in_features = self.num_units[0], out_features = self.num_units[1], bias = self.usebias[0]),\n",
    "            nn.Dropout(p = self.dropout[0], inplace = False),\n",
    "            self.GetActivationLayer(0),\n",
    "            nn.Linear(in_features = self.num_units[1], out_features = self.num_units[2], bias = self.usebias[1]),\n",
    "            nn.Dropout(p = self.dropout[1], inplace = False),\n",
    "            self.GetActivationLayer(1),\n",
    "            nn.Linear(in_features = self.num_units[2], out_features = self.num_units[3], bias = self.usebias[2]),\n",
    "            nn.Dropout(p = self.dropout[2], inplace = False),\n",
    "            self.GetActivationLayer(2),\n",
    "            nn.Linear(in_features = self.num_units[3], out_features = self.K_Length, bias = self.usebias[3])\n",
    "        ])\n",
    "    \n",
    "    def forward(self, x):\n",
    "        output = x.view(x.size(0), -1)\n",
    "        output = self.layers[0](output)\n",
    "        output = self.layers[1](output)\n",
    "        output = self.layers[2](output)\n",
    "        output = self.layers[3](output)\n",
    "        output = self.layers[4](output)\n",
    "        output = self.layers[5](output)\n",
    "        output = self.layers[6](output)\n",
    "        output = self.layers[7](output)\n",
    "        output = self.layers[8](output)\n",
    "        output = self.layers[9](output)\n",
    "        return output\n",
    "    \n",
    "    def GetActivationLayer(self, layer):\n",
    "        Result = None\n",
    "        if (self.activation[layer] == \"relu\"): #Not differentiable at 0. Doesn't need Greedy layer-wise pretraining (Hinton) because it doesn't suffer from vanishing gradient\n",
    "            Result = nn.LeakyReLU(ReluAlpha) if ReluAlpha != 0 else nn.ReLU() #alpha: Controls the angle of the negative slope\n",
    "        elif (self.activation[layer] == \"relu6\"):\n",
    "            Result = nn.ReLU6()\n",
    "        elif (self.activation[layer] == \"elu\"): #Like ReLu but allows values to be negative, so they can be centred around 0, also potential vanishing gradient on the left side but doesn't matter\n",
    "            Result = nn.ELU(alpha = EluAlpha) #alpha: Slope on the left side\n",
    "        elif (self.activation[layer] == \"tanh\"): #Suffers from Vanishing Gradient\n",
    "            Result = nn.Tanh()\n",
    "        elif (self.activation[layer] == \"sigmoid\"): #Suffers from Vanishing Gradient\n",
    "            Result = nn.Sigmoid() #Result isn't centred around 0. Maximum derivative: 0.25\n",
    "        return Result\n",
    "print(\"Done\")"
   ]
  },
  {
   "cell_type": "markdown",
   "metadata": {
    "heading_collapsed": true,
    "hidden": true
   },
   "source": [
    "## Dataset Functions"
   ]
  },
  {
   "cell_type": "code",
   "execution_count": 6,
   "metadata": {
    "hidden": true,
    "init_cell": true
   },
   "outputs": [],
   "source": [
    "def train_valid_test_split(X_Data, train_size, valid_size, Y_Data = None, random_state = None, shuffle = True, stratify = None):\n",
    "    \"\"\"Split the dataset, optionally in a stratified manner, into a Train, Validation and Test set\"\"\"\n",
    "    \n",
    "    if (type(train_size) == int and sum([train_size, valid_size]) >= len(X_Data)) or (type(train_size) != int and sum([train_size, valid_size]) >= 1):\n",
    "        raise ValueError(f\"The train_size [{train_size}] + the valid_size [{valid_size}] should sum up to less than 100% so that there's some percentage left for the test set\")\n",
    "    \n",
    "    TrainIdx, ValidTestIdx = train_test_split(np.arange(len(X_Data)), train_size = train_size, shuffle = shuffle, stratify = stratify, random_state = random_state)\n",
    "    TrainX     = X_Data[TrainIdx]\n",
    "    ValidTestX = X_Data[ValidTestIdx]\n",
    "    if Y_Data is not None:\n",
    "        TrainY     = Y_Data[TrainIdx]\n",
    "        ValidTestY = Y_Data[ValidTestIdx]\n",
    "    \n",
    "    if type(train_size) != int: #For the 2nd split we need the validation percent relative to the Valid/Test portion of the dataset alone\n",
    "        test_size  = 1 - train_size - valid_size #Actual test size\n",
    "        valid_size = 1 - (test_size / (valid_size + test_size)) #Relative (to ValidTest) valid size\n",
    "        test_size  = 1 - valid_size #Relative (to ValidTest) test size\n",
    "    \n",
    "    if Y_Data is not None:\n",
    "        ValidX, TestX, ValidY, TestY = train_test_split(ValidTestX, ValidTestY, train_size = valid_size, shuffle = shuffle, stratify = stratify[ValidTestIdx] if stratify is not None else None, random_state = random_state)\n",
    "        return TrainX, ValidX, TestX, TrainY, ValidY, TestY\n",
    "    else:\n",
    "        ValidX, TestX = train_test_split(ValidTestX, train_size = valid_size, shuffle = shuffle, stratify = stratify[ValidTestIdx] if stratify is not None else None, random_state = random_state)\n",
    "        return TrainX, ValidX, TestX"
   ]
  },
  {
   "cell_type": "code",
   "execution_count": 40,
   "metadata": {
    "hidden": true,
    "init_cell": true
   },
   "outputs": [],
   "source": [
    "def Scale(x_data, scaler_mean, scaler_sd, verbose = True):\n",
    "    \"\"\"Scale a Torch Tensor or Numpy Array to have zero mean and unit variance.\"\"\"\n",
    "    if isinstance(x_data, torch.Tensor):\n",
    "        if (isinstance(scaler_mean, np.number) or isinstance(scaler_sd, np.number)) and x_data.shape[1] != 1:\n",
    "            if verbose:\n",
    "                print(\"Info: Scaler is a scalar but X's observations are not. Safely ignore this if you intended to normalise with scalar parameters.\")\n",
    "            return ((x_data - scaler_mean) / scaler_sd).float()\n",
    "        else:\n",
    "            return ((x_data - torch.from_numpy(scaler_mean)) / torch.from_numpy(scaler_sd)).float()\n",
    "    elif isinstance(x_data, np.ndarray):\n",
    "        if verbose and (isinstance(scaler_mean, np.number) or isinstance(scaler_sd, np.number)) and x_data.shape[1] != 1:\n",
    "            print(\"Info: Scaler is a scalar but X's observations are not. Safely ignore this if you intended to normalise with scalar parameters.\")\n",
    "        return ((x_data - scaler_mean) / scaler_sd).astype(np.float32)\n",
    "    else:\n",
    "        raise Exception(\"Cannot scale the variable because it is neither a Torch Tensor nor a Numpy Array\")\n",
    "        return None\n",
    "\n",
    "def UnScale(x_data, scaler_mean, scaler_sd, verbose = True):\n",
    "    \"\"\"Inverse the scaling of a Torch Tensor or Numpy Array that currently have zero mean and unit variance.\"\"\"\n",
    "    if isinstance(x_data, torch.Tensor):\n",
    "        if (isinstance(scaler_mean, np.number) or isinstance(scaler_sd, np.number)) and x_data.shape[1] != 1:\n",
    "            if verbose:\n",
    "                print(\"Info: Scaler is a scalar but X's observations are not. Safely ignore this if you intended to normalise with scalar parameters.\")\n",
    "            return ((x_data * scaler_sd) + scaler_mean).float()\n",
    "        else:\n",
    "            return ((x_data * torch.from_numpy(scaler_sd)) + torch.from_numpy(scaler_mean)).float()\n",
    "    elif isinstance(x_data, np.ndarray):\n",
    "        if verbose and (isinstance(scaler_mean, np.number) or isinstance(scaler_sd, np.number)) and x_data.shape[1] != 1:\n",
    "            print(\"Info: Scaler is a scalar but X's observations are not. Safely ignore this if you intended to normalise with scalar parameters.\")\n",
    "        return ((x_data * scaler_sd) + scaler_mean).astype(np.float32)\n",
    "    else:\n",
    "        raise Exception(\"Cannot unscale the variable because it is neither a Torch Tensor nor a Numpy Array\")\n",
    "        return None"
   ]
  },
  {
   "cell_type": "markdown",
   "metadata": {
    "heading_collapsed": true,
    "hidden": true
   },
   "source": [
    "## Optimisation Functions"
   ]
  },
  {
   "cell_type": "code",
   "execution_count": 7,
   "metadata": {
    "hidden": true,
    "init_cell": true
   },
   "outputs": [],
   "source": [
    "def ClassAccMulti(Targets, Preds, K):\n",
    "    \"\"\"Calculate the Class-Wise accuracy for a multi-class task\"\"\"\n",
    "    return(np.mean([(Targets == k) == (Preds == k) for k in range(K)]))"
   ]
  },
  {
   "cell_type": "code",
   "execution_count": 8,
   "metadata": {
    "ExecuteTime": {
     "end_time": "2022-01-30T02:40:30.032892Z",
     "start_time": "2022-01-30T02:40:30.019392Z"
    },
    "hidden": true,
    "init_cell": true
   },
   "outputs": [],
   "source": [
    "def AccCalculation(Y_Hat, Targets):    \n",
    "    \"\"\"Calculate the Accuracy given the Actual values and Predictions for Binary and Multiclass Classification.\"\"\"\n",
    "    if isinstance(Targets, torch.Tensor):\n",
    "        Targets = Targets.cpu().numpy()\n",
    "    \n",
    "    if isinstance(Y_Hat, torch.Tensor):\n",
    "        Y_Hat = Y_Hat.cpu().numpy()\n",
    "        \n",
    "    return np.mean(Y_Hat == Targets)"
   ]
  },
  {
   "cell_type": "code",
   "execution_count": 9,
   "metadata": {
    "ExecuteTime": {
     "end_time": "2022-01-30T02:40:30.048392Z",
     "start_time": "2022-01-30T02:40:30.034892Z"
    },
    "hidden": true,
    "init_cell": true
   },
   "outputs": [],
   "source": [
    "def AUCCalculation(Targets, Y_Prob, Y_Hat, Verbose = True):\n",
    "    \"\"\"Calculate the Area Under the Receiver Operating Characteristic Curve given the Actual values and Predictions for Binary and Multiclass Classification using sklearn's roc_auc_score().\"\"\"\n",
    "    if isinstance(Targets, torch.Tensor):\n",
    "        Targets = Targets.cpu().numpy()\n",
    "    \n",
    "    if isinstance(Y_Prob, torch.Tensor):\n",
    "        Y_Prob = Y_Prob.cpu().numpy()\n",
    "    \n",
    "    if isinstance(Y_Hat, torch.Tensor):\n",
    "        Y_Hat = Y_Hat.cpu().numpy()\n",
    "    \n",
    "    try:\n",
    "        CurMetric2 = roc_auc_score(Targets, Y_Prob, multi_class = \"ovr\", average = 'weighted') #Calculating Weighted AUC #Cares for performance both in Positives and Negatives (but may not fare well with heavy class imbalance)\n",
    "    except Exception as exc:\n",
    "        CurMetric2 = np.nan\n",
    "        if Verbose:\n",
    "            warnings.warn(f\"\\nAn error occurred in AUC calculation (probably because of missing classes in the random batch of data?).\\nThe error reads: {exc}\")\n",
    "            print(\"AUC Warning. set(Targets):\", list(set(Targets.reshape(-1))), \"set(Outputs): \", list(set(Y_Hat.reshape(-1))))\n",
    "            \n",
    "    return CurMetric2"
   ]
  },
  {
   "cell_type": "code",
   "execution_count": 10,
   "metadata": {
    "ExecuteTime": {
     "end_time": "2022-01-30T02:40:30.063892Z",
     "start_time": "2022-01-30T02:40:30.050392Z"
    },
    "hidden": true,
    "init_cell": true
   },
   "outputs": [],
   "source": [
    "def F1ScoreCalculation(Targets, Y_Hat):\n",
    "    \"\"\"Calculate the F1 score given the Actual values and Predictions for Binary and Multiclass Classification using sklearn's f1_score().\"\"\"\n",
    "    if isinstance(Targets, torch.Tensor):\n",
    "        Targets = Targets.cpu().numpy()\n",
    "    \n",
    "    if isinstance(Y_Hat, torch.Tensor):\n",
    "        Y_Hat = Y_Hat.cpu().numpy()\n",
    "    \n",
    "    try:\n",
    "        CurMetric3 = f1_score(Targets, Y_Hat, average = 'weighted') #Calculating Weighted F1 #Cares about balance between Precision and Recall (Sensitivity)\n",
    "    except Exception as exc:\n",
    "        CurMetric3 = np.nan\n",
    "        warnings.warn(f\"\\nAn error occurred in F1 score calculation (probably because of missing classes in the random batch of data?).\\nThe error reads: {exc}\")\n",
    "            \n",
    "    return CurMetric3"
   ]
  },
  {
   "cell_type": "code",
   "execution_count": 11,
   "metadata": {
    "ExecuteTime": {
     "end_time": "2022-01-30T02:40:30.079393Z",
     "start_time": "2022-01-30T02:40:30.065892Z"
    },
    "hidden": true,
    "init_cell": true
   },
   "outputs": [],
   "source": [
    "def PrintIterationMetrics(it, epochs, t0, train_loss, test_loss, first_metric, first_metric_Name, second_metric, second_metric_Name, third_metric, third_metric_Name, MaxTrainLossLen, MaxTestLossLen, MaxMetric1Len, MaxMetric2Len, MaxMetric3Len):\n",
    "    \"\"\"Print information about the Current Epoch, Train/Test losses as well as metrics and duration, and return the Max length of each metric viewed as a string in order to keep a consistent text alignment amongst consecutive epochs.\"\"\"\n",
    "    dt = datetime.now() - t0\n",
    "\n",
    "    strTrainLoss = f\"{train_loss:.4f}\"\n",
    "    strTestLoss = f\"{test_loss:.4f}\"\n",
    "    strMetric1 = f'{first_metric:.3f}'\n",
    "    strMetric2 = f'{second_metric:.3f}'\n",
    "    strMetric3 = f'{third_metric:.3f}'\n",
    "    if it == 0:\n",
    "        MaxTrainLossLen = len(strTrainLoss)\n",
    "        MaxTestLossLen = len(strTestLoss)\n",
    "        MaxMetric1Len = len(strMetric1)\n",
    "        MaxMetric2Len = len(strMetric2)\n",
    "        MaxMetric3Len = len(strMetric3)\n",
    "    print(f'Epoch {ZeroANumber(it+1, len(str(epochs)))}/{epochs}, Train Loss: {SpaceAString(strTrainLoss, MaxTrainLossLen)}, Test Loss: {SpaceAString(strTestLoss, MaxTestLossLen)} | {first_metric_Name}: {SpaceAString(strMetric1, MaxMetric1Len)}, {second_metric_Name}: {SpaceAString(strMetric2, MaxMetric1Len)}, {third_metric_Name}: {SpaceAString(strMetric3, MaxMetric1Len)}, Duration: {dt}')\n",
    "    return MaxTrainLossLen, MaxTestLossLen, MaxMetric1Len, MaxMetric2Len, MaxMetric3Len"
   ]
  },
  {
   "cell_type": "code",
   "execution_count": 12,
   "metadata": {
    "ExecuteTime": {
     "end_time": "2022-01-30T02:40:30.094892Z",
     "start_time": "2022-01-30T02:40:30.080892Z"
    },
    "hidden": true,
    "init_cell": true
   },
   "outputs": [],
   "source": [
    "def UpdateMetricsAndSaveModel(model, train_loss, test_loss, train_best_loss, test_best_loss, CurMetric1, Metric1, CurMetric2, Metric2, CurMetric3, Metric3):\n",
    "    \"\"\"if current model outperform's best model, save current model's state and update best performance metrics to reflect this model's.\"\"\"\n",
    "    if (test_loss < test_best_loss): #Saving the model if it outperforms previous iteration's model\n",
    "        test_best_loss = test_loss\n",
    "        train_best_loss = train_loss\n",
    "        torch.save(model.state_dict(), f\"model_dict.pt\") #Saving Model's Dictionary\n",
    "        \n",
    "        if np.isfinite(CurMetric1) and CurMetric1 >= Metric1:\n",
    "            Metric1 = CurMetric1\n",
    "            Metric2 = CurMetric2\n",
    "            Metric3 = CurMetric3\n",
    "            torch.save(model.state_dict(), f\"acc_model_dict.pt\") #Saving Model's Dictionary\n",
    "    return train_best_loss, test_best_loss, Metric1, Metric2, Metric3"
   ]
  },
  {
   "cell_type": "code",
   "execution_count": 13,
   "metadata": {
    "ExecuteTime": {
     "end_time": "2022-01-30T02:40:30.110392Z",
     "start_time": "2022-01-30T02:40:30.096892Z"
    },
    "hidden": true,
    "init_cell": true
   },
   "outputs": [],
   "source": [
    "def PrintFinishingInformation(start_time, JustCalculateElapsedTime = False):\n",
    "    \"\"\"Calculate and print (and return) the elapsed time over all the training epochs.\"\"\"\n",
    "    elapsed_time = time.time() - start_time\n",
    "    if not JustCalculateElapsedTime:\n",
    "        FinishedOn = datetime.now(timezone('Europe/Athens')).strftime(\"%a, %Y-%m-%d %H:%M %Z %z\")\n",
    "        print(\"Done (\" + FinishedOn + \") Elapsed time: \" + str(round(elapsed_time, 1)) + \" seconds\")\n",
    "    \n",
    "    return elapsed_time"
   ]
  },
  {
   "cell_type": "code",
   "execution_count": 14,
   "metadata": {
    "ExecuteTime": {
     "end_time": "2022-01-30T02:40:30.125892Z",
     "start_time": "2022-01-30T02:40:30.112392Z"
    },
    "hidden": true,
    "init_cell": true
   },
   "outputs": [],
   "source": [
    "def TrainModel(model, optimiser, criterion, X_Train, Y_Train):\n",
    "    \"\"\"Train by calculating the gradients and taking one step.\"\"\"\n",
    "    model.train() #Putting model in training mode so that things like dropout() are activated again\n",
    "    \n",
    "    optimiser.zero_grad() #Initialisation of the gradient of θ\n",
    "    outputs = model(X_Train) #Getting the prediction using the forward direction of the Neural Net\n",
    "    \n",
    "    loss = criterion(outputs, Y_Train) #Calculating the loss according to the loss function\n",
    "    loss.backward() #Calculating the Gradient Δθ of the loss function with respect to the parameters\n",
    "    \n",
    "    optimiser.step() #Calculates and updates the parameters θ using gradient descent, as θ = θ - η*Δθ\n",
    "    \n",
    "    return optimiser, outputs, loss"
   ]
  },
  {
   "cell_type": "code",
   "execution_count": 15,
   "metadata": {
    "ExecuteTime": {
     "end_time": "2022-01-30T02:40:30.141392Z",
     "start_time": "2022-01-30T02:40:30.128893Z"
    },
    "hidden": true,
    "init_cell": true
   },
   "outputs": [],
   "source": [
    "def EvaluateModelFromPreds(criterion, Y_Prob, Targets, Verbose):\n",
    "    \"\"\"Use the forward direction of the model following with a sigmoid+threshold or softmax+argmax for binary or multiclass classification respectively, and calculate and return the predictions and evaluation metrics.\"\"\"\n",
    "    with torch.no_grad(): #Making sure that we don't update the gradient outside the training part\n",
    "        loss_scalar = criterion(Y_Prob, Targets).item() #Calculating the loss according to the loss function\n",
    "        \n",
    "        Y_Prob = nn.Softmax(dim = 1)(Y_Prob) #dim: every slice along dim will sum to 1\n",
    "        _, Y_Hat = torch.max(Y_Prob, 1) #Prediction. torch.max returns both max (value) and argmax (index)\n",
    "\n",
    "        CurMetric1, CurMetric2, CurMetric3 = GetCategoricalMetrics(Y_Prob, Y_Hat, Targets, Verbose = Verbose)\n",
    "        return loss_scalar, CurMetric1, CurMetric2, CurMetric3"
   ]
  },
  {
   "cell_type": "code",
   "execution_count": 16,
   "metadata": {
    "ExecuteTime": {
     "end_time": "2022-01-30T02:40:30.156892Z",
     "start_time": "2022-01-30T02:40:30.142892Z"
    },
    "hidden": true,
    "init_cell": true
   },
   "outputs": [],
   "source": [
    "def EvalForwardPass(model, inputs, criterion = None, Targets = None): #This is used at the very end on \"Evaluation\" Section. Unifies the forward pass, but doesn't calculate loss/metrics like EvaluateModel() does as we need greater granularity.\n",
    "    \"\"\"Use the forward direction of the model, potentially following with a sigmoid+threshold or softmax+argmax for binary or multiclass classification respectively.\"\"\"\n",
    "    \n",
    "    if Targets is not None and criterion is None:\n",
    "        warnings.warn(f\"\\nTargets are present but loss cannot be calculated because criterion is None.\")\n",
    "        \n",
    "    model.eval() #Putting model in evaluation mode so that things like dropout() are deactivated\n",
    "    with torch.no_grad(): #Making sure that we don't update the gradient outside the training part\n",
    "        Y_Prob = model(inputs) #Getting the prediction using the forward direction of the Neural Net\n",
    "        \n",
    "        if Targets is not None:\n",
    "            loss_scalar = criterion(Y_Prob, Targets).item() #Calculating the loss according to the loss function\n",
    "\n",
    "        Y_Prob = nn.Softmax(dim = 1)(Y_Prob) #dim: every slice along dim will sum to 1\n",
    "        _, Y_Hat = torch.max(Y_Prob, 1) #Prediction. torch.max returns both max (value) and argmax (index)\n",
    "        \n",
    "    if Targets is not None:\n",
    "        return Y_Prob, Y_Hat, loss_scalar\n",
    "    else:\n",
    "        return Y_Prob, Y_Hat"
   ]
  },
  {
   "cell_type": "code",
   "execution_count": 17,
   "metadata": {
    "ExecuteTime": {
     "end_time": "2022-01-30T02:40:30.172392Z",
     "start_time": "2022-01-30T02:40:30.158893Z"
    },
    "hidden": true,
    "init_cell": true
   },
   "outputs": [],
   "source": [
    "def FixFormatAndDTypes(device, Inputs, Targets):\n",
    "    \"\"\"Ensure that the Inputs and Targets are Torch Tensors and of the correct shape and dtype before returning them.\"\"\"\n",
    "    if isinstance(Inputs, np.ndarray):\n",
    "        Inputs = torch.from_numpy(Inputs)\n",
    "    if isinstance(Targets, np.ndarray):\n",
    "        Targets = torch.from_numpy(Targets)\n",
    "    \n",
    "    Inputs = Inputs.to(device)\n",
    "    Targets = Targets.to(device)\n",
    "    \n",
    "    Targets = Targets.long()\n",
    "    \n",
    "    return Inputs, Targets"
   ]
  },
  {
   "cell_type": "markdown",
   "metadata": {
    "heading_collapsed": true,
    "hidden": true
   },
   "source": [
    "## Evaluation Functions"
   ]
  },
  {
   "cell_type": "code",
   "execution_count": 18,
   "metadata": {
    "ExecuteTime": {
     "end_time": "2022-01-30T02:40:30.203392Z",
     "start_time": "2022-01-30T02:40:30.174392Z"
    },
    "hidden": true,
    "init_cell": true
   },
   "outputs": [],
   "source": [
    "def plot_confusion_matrix(cm, classes, normalise = False, title = 'Confusion matrix', colourmap = plt.cm.Blues):\n",
    "    \"\"\"Plot the Confusion Matrix object returned by sklearn's confusion_matrix() and normalise it if normalise==True.\"\"\"\n",
    "    plt.grid(False)\n",
    "    if normalise:\n",
    "        print('Confusion matrix')\n",
    "        print(cm)\n",
    "        cm = cm.astype('float') / cm.sum(axis = 1)[:, np.newaxis]\n",
    "        plt.imshow(cm, interpolation = 'nearest', cmap = colourmap)\n",
    "        plt.clim(0.0, 1.0)\n",
    "    else:\n",
    "        plt.imshow(cm, interpolation = 'nearest', cmap = colourmap)\n",
    "    plt.title(title)\n",
    "    with warnings.catch_warnings():\n",
    "        warnings.simplefilter(\"ignore\")\n",
    "        plt.colorbar()\n",
    "    tick_marks = np.arange(len(classes))\n",
    "    plt.xticks(tick_marks, classes, rotation = 45)\n",
    "    plt.yticks(tick_marks, classes)\n",
    "    \n",
    "    fmt = '.2f' if normalise else 'd'\n",
    "    thresh = cm.max() / 2.\n",
    "    for i, j in itertools.product(range(cm.shape[0]), range(cm.shape[1])):\n",
    "        plt.text(j, i, format(cm[i, j], fmt),\n",
    "                 horizontalalignment = \"center\",\n",
    "                 color = \"white\" if cm[i, j] > thresh else \"black\")\n",
    "\n",
    "    plt.tight_layout()\n",
    "    plt.ylabel('True label')\n",
    "    plt.xlabel('Predicted label')\n",
    "    plt.show()\n",
    "\n",
    "def PlotHistory(Train_History, Test_History = None, Key = \"Loss\", figsize = (12, 8), MajorLineStyle = \"--\", MinorLineStyle = \":\", MajorLines = 10, MinorInbetweenLinesEvery = 4, test_alpha = 1.0):\n",
    "    \"\"\"Plot a juxtaposition of a Train and Test metric (parametrised by Key), usually 'Loss'\"\"\"\n",
    "    fig, ax = plt.subplots(figsize = figsize)\n",
    "    plt.plot(Train_History, label = f\"Train {Key}\")\n",
    "    if (Test_History is not None):\n",
    "        plt.plot(Test_History, label = f\"Test {Key}\", alpha = test_alpha)\n",
    "    xfrom, xto = ax.get_xlim()\n",
    "    yfrom, yto = ax.get_ylim()\n",
    "    ax.xaxis.set_major_locator(MultipleLocator(int(np.ceil((xto-xfrom)/MajorLines))))\n",
    "    ax.yaxis.set_major_locator(MultipleLocator((yto-yfrom)/MajorLines))\n",
    "    ax.xaxis.set_minor_locator(AutoMinorLocator(MinorInbetweenLinesEvery))\n",
    "    ax.yaxis.set_minor_locator(AutoMinorLocator(MinorInbetweenLinesEvery))\n",
    "    ax.grid(which = 'major', color='#FFFFFF', linestyle = MajorLineStyle)\n",
    "    ax.grid(which = 'minor', color='#CCCCCC', linestyle = MinorLineStyle)\n",
    "    plt.legend()\n",
    "    plt.show()\n",
    "    return None\n",
    "\n",
    "def PlotAllMetrics(Titles, TrainMetrics, TestMetrics = None, figsize = [19, 13], test_alpha = 1.0):\n",
    "    fig, ((ax1, ax2), (ax3, ax4)) = plt.subplots(2, 2, figsize = figsize)\n",
    "    ax1.set_title(Titles[0])\n",
    "    ax1.plot(TrainMetrics[0], label = f\"Train\")\n",
    "    if TestMetrics is not None:\n",
    "        ax1.plot(TestMetrics[0], label = f\"Test\", alpha = test_alpha)\n",
    "    ax1.legend()\n",
    "    ax2.set_title(Titles[1])\n",
    "    ax2.plot(TrainMetrics[1], label = f\"Train\")\n",
    "    if TestMetrics is not None:\n",
    "        ax2.plot(TestMetrics[1], label = f\"Test\", alpha = test_alpha)\n",
    "    ax2.legend()\n",
    "    ax3.set_title(Titles[2])\n",
    "    ax3.plot(TrainMetrics[2], label = f\"Train\")\n",
    "    if TestMetrics is not None:\n",
    "        ax3.plot(TestMetrics[2], label = f\"Test\", alpha = test_alpha)\n",
    "    ax3.legend()\n",
    "    ax4.set_title(Titles[3])\n",
    "    ax4.plot(TrainMetrics[3], label = f\"Train\")\n",
    "    if TestMetrics is not None:\n",
    "        ax4.plot(TestMetrics[3], label = f\"Test\", alpha = test_alpha)\n",
    "    ax4.legend()\n",
    "    plt.show()\n",
    "    return None"
   ]
  },
  {
   "cell_type": "code",
   "execution_count": 19,
   "metadata": {
    "ExecuteTime": {
     "end_time": "2022-01-30T02:40:30.218892Z",
     "start_time": "2022-01-30T02:40:30.205392Z"
    },
    "hidden": true,
    "init_cell": true
   },
   "outputs": [],
   "source": [
    "def GetCategoricalMetrics(Y_Prob, Y_Hat, Targets, Verbose = True):\n",
    "    \"\"\"Calculate Categorical variable metrics (Accuracy, Area Under the Curve, F1 score) given the class Probability vector (binary) / matrix (multiclass), the class index (0 to K-1), and the Actual values.\"\"\"\n",
    "    test_Acc = AccCalculation(Y_Hat, Targets)\n",
    "    test_AUC = AUCCalculation(Targets, Y_Prob, Y_Hat, Verbose = Verbose)\n",
    "    test_F1 = F1ScoreCalculation(Targets, Y_Hat)\n",
    "    \n",
    "    return test_Acc, test_AUC, test_F1"
   ]
  },
  {
   "cell_type": "code",
   "execution_count": 20,
   "metadata": {
    "ExecuteTime": {
     "end_time": "2022-01-30T02:40:30.234392Z",
     "start_time": "2022-01-30T02:40:30.220892Z"
    },
    "hidden": true,
    "init_cell": true
   },
   "outputs": [],
   "source": [
    "def PlotCategoricalMetrics(Y_Hat, Targets, ClassNames, normalise, figsize = None):\n",
    "    \"\"\"Plots the Confusion matrix given the class index (0 to K-1), and the Actual values.\"\"\"\n",
    "    PrevFigSize = plt.rcParams['figure.figsize']\n",
    "    plt.rcParams['figure.figsize'] = figsize if figsize is not None else PrevFigSize\n",
    "    \n",
    "    cm = confusion_matrix(Targets, Y_Hat)\n",
    "    plot_confusion_matrix(cm, ClassNames, normalise = normalise)\n",
    "    \n",
    "    plt.rcParams['figure.figsize'] = PrevFigSize"
   ]
  },
  {
   "cell_type": "code",
   "execution_count": 21,
   "metadata": {
    "ExecuteTime": {
     "end_time": "2022-01-30T02:40:30.249892Z",
     "start_time": "2022-01-30T02:40:30.236392Z"
    },
    "hidden": true,
    "init_cell": true
   },
   "outputs": [],
   "source": [
    "def EvalPredict(model, device, test_loader_or_X_Test):\n",
    "    \"\"\"Use EvalForwardPass() to use the forward direction of the model and return the Y_probability, Y_Hat, and respective Y given X.\"\"\"\n",
    "    Preds_prob = []\n",
    "    Preds = []\n",
    "    Targets = []\n",
    "    \n",
    "    for inputs, targets in tqdm(test_loader_or_X_Test, total = len(test_loader_or_X_Test), leave = False):\n",
    "        inputs, targets = FixFormatAndDTypes(device, inputs, targets)\n",
    "        outputs_prob, outputs = EvalForwardPass(model, inputs, criterion = None, Targets = None)\n",
    "\n",
    "        Preds_prob.append(outputs_prob)\n",
    "        Preds.append(outputs)\n",
    "        Targets.append(targets)\n",
    "    \n",
    "    Preds_prob = torch.cat(Preds_prob).cpu().numpy()\n",
    "    Preds = torch.cat(Preds).cpu().numpy()\n",
    "    Targets = torch.cat(Targets).cpu().numpy()\n",
    "    \n",
    "    del inputs\n",
    "    del outputs_prob\n",
    "    del outputs\n",
    "    del targets\n",
    "    if IS_GPU_AVAILABLE:\n",
    "        torch.cuda.empty_cache()\n",
    "    \n",
    "    return Preds_prob, Preds, Targets"
   ]
  },
  {
   "cell_type": "markdown",
   "metadata": {
    "heading_collapsed": true,
    "hidden": true
   },
   "source": [
    "## Gradient Descent Functions"
   ]
  },
  {
   "cell_type": "code",
   "execution_count": 22,
   "metadata": {
    "ExecuteTime": {
     "end_time": "2022-01-30T02:40:30.296392Z",
     "start_time": "2022-01-30T02:40:30.267392Z"
    },
    "hidden": true,
    "init_cell": true
   },
   "outputs": [],
   "source": [
    "def batch_gd(model, device, criterion, optimiser, scheduler, train_loader, test_loader, epochs, PrintInfoEverynEpochs, train_best_loss, test_best_loss, BestMetric1, BestMetric2, BestMetric3, Verbose = True):\n",
    "    \"\"\"Use the Train, Evaluation, Metrics calculation and printing functions to train a model over certain epochs taking steps in every batch and keeping track of the metrics on each epoch as well as the overall best metrics\"\"\"\n",
    "    MaxTrainLossLen, MaxTestLossLen, MaxMetric1Len, MaxMetric2Len, MaxMetric3Len = None, None, None, None, None #For output text formatting\n",
    "    \n",
    "    start_time = time.time() #To calculate the duration of the whole learning procedure\n",
    "    model.to(device) #If there is a GPU, let's ensure model is sent to the GPU    \n",
    "    \n",
    "    #Initialising the Metrics\n",
    "    train_losses, test_losses, train_metric1s, train_metric2s, train_metric3s, test_metric1s, test_metric2s, test_metric3s = np.repeat(np.nan, epochs), np.repeat(np.nan, epochs), np.repeat(np.nan, epochs), np.repeat(np.nan, epochs), np.repeat(np.nan, epochs), np.repeat(np.nan, epochs), np.repeat(np.nan, epochs), np.repeat(np.nan, epochs)\n",
    "    \n",
    "    for it in range(epochs):\n",
    "        t0 = datetime.now() #To calculate the duration of the current epoch\n",
    "        ProbsTrain = []\n",
    "        TargetsTrain = []\n",
    "        Probs = []\n",
    "        Targets = []\n",
    "        \n",
    "        #== Training ==#\n",
    "        for inputs, targets in train_loader:\n",
    "#         for inputs, targets in tqdm(train_loader, total = len(train_loader), leave = False):\n",
    "            inputs, targets = FixFormatAndDTypes(device, inputs, targets) #Making sure we have Tensors of the correct Format and Data Type            \n",
    "            optimiser, outputs, loss = TrainModel(model, optimiser, criterion, inputs, targets) #Training the model on Train set\n",
    "            #This loss includes dropout() and stuff as it was not done under model.eval()\n",
    "            ProbsTrain.append(outputs.cpu())\n",
    "            TargetsTrain.append(targets.cpu())\n",
    "            del inputs, targets, outputs\n",
    "        \n",
    "        ProbsTrain   = torch.cat(ProbsTrain)\n",
    "        TargetsTrain = torch.cat(TargetsTrain)\n",
    "        \n",
    "        train_loss, CurTrainMetric1, CurTrainMetric2, CurTrainMetric3 = EvaluateModelFromPreds(criterion, ProbsTrain, TargetsTrain, Verbose = Verbose) #Evaluating the model on Train set\n",
    "        \n",
    "        #== Evaluation ==#\n",
    "        for inputs, targets in test_loader:\n",
    "#         for inputs, targets in tqdm(test_loader, total = len(test_loader), leave = False):\n",
    "            inputs, targets = FixFormatAndDTypes(device, inputs, targets) #Making sure we have Tensors of the correct Format and Data Type\n",
    "            Y_Prob, _ = EvalForwardPass(model, inputs)\n",
    "            Probs.append(Y_Prob.cpu())\n",
    "            Targets.append(targets.cpu())\n",
    "\n",
    "            del inputs, targets, Y_Prob#, Y_Hat\n",
    "\n",
    "        Probs   = torch.cat(Probs)\n",
    "        Targets = torch.cat(Targets)\n",
    "\n",
    "        test_loss, CurMetric1, CurMetric2, CurMetric3 = EvaluateModelFromPreds(criterion, Probs, Targets, Verbose = Verbose) #Evaluating the model on Evaluation set\n",
    "\n",
    "        if np.any(np.logical_or(torch.isinf(Probs).cpu().numpy(), torch.isnan(Probs).cpu().numpy())):\n",
    "            print(f\"!Predictions contain infinities ({np.mean(np.logical_or(np.isinf(Probs), np.isnan(Probs))) * 100:.2f}%); Stopping!\")\n",
    "            break\n",
    "        \n",
    "        if np.logical_or(np.isinf(test_loss), np.isnan(test_loss)):\n",
    "            print(\"!Loss is Infinite; Stopping!\")\n",
    "            break\n",
    "        \n",
    "        if scheduler is not None:\n",
    "            if list(scheduler.keys())[0].lower() == \"Plateau\".lower():\n",
    "                scheduler[list(scheduler.keys())[0]].step(test_loss)\n",
    "            elif list(scheduler.keys())[0].lower() == \"StepLR\".lower():\n",
    "                scheduler[list(scheduler.keys())[0]].step()\n",
    "        \n",
    "        #Saving the metrics\n",
    "        train_losses[it], train_metric1s[it], train_metric2s[it], train_metric3s[it], test_losses[it], test_metric1s[it], test_metric2s[it], test_metric3s[it] = train_loss, CurTrainMetric1, CurTrainMetric2, CurTrainMetric3, test_loss, CurMetric1, CurMetric2, CurMetric3\n",
    "        \n",
    "        if (it + 1) % PrintInfoEverynEpochs == 0 or it == 0 or it == epochs - 1:\n",
    "            MaxTrainLossLen, MaxTestLossLen, MaxMetric1Len, MaxMetric2Len, MaxMetric3Len = PrintIterationMetrics( #Prints Iteration Metrics\n",
    "                it, epochs, t0, train_loss, test_loss,\n",
    "                CurMetric1, \"Acc\",\n",
    "                CurMetric2, \"AUC\",\n",
    "                CurMetric3, \"F1\" ,\n",
    "                MaxTrainLossLen, MaxTestLossLen,\n",
    "                MaxMetric1Len, MaxMetric2Len, MaxMetric3Len\n",
    "            )\n",
    "        \n",
    "        train_best_loss, test_best_loss, BestMetric1, BestMetric2, BestMetric3 = UpdateMetricsAndSaveModel(model, train_loss, test_loss, train_best_loss, test_best_loss, CurMetric1, BestMetric1, CurMetric2, BestMetric2, CurMetric3, BestMetric3) #Updating Metrics and Saving the model if it outperforms previous iteration's model\n",
    "    \n",
    "    elapsed_time = PrintFinishingInformation(start_time, JustCalculateElapsedTime = False) #Prints finishing information\n",
    "    return train_losses, test_losses, train_best_loss, test_best_loss, train_metric1s, train_metric2s, train_metric3s, test_metric1s, test_metric2s, test_metric3s, CurMetric1, CurMetric2, CurMetric3, BestMetric1, BestMetric2, BestMetric3, elapsed_time"
   ]
  },
  {
   "cell_type": "markdown",
   "metadata": {
    "heading_collapsed": true
   },
   "source": [
    "# Data"
   ]
  },
  {
   "cell_type": "code",
   "execution_count": 23,
   "metadata": {
    "ExecuteTime": {
     "end_time": "2022-01-30T02:40:30.342892Z",
     "start_time": "2022-01-30T02:40:30.328892Z"
    },
    "hidden": true,
    "init_cell": true
   },
   "outputs": [
    {
     "name": "stdout",
     "output_type": "stream",
     "text": [
      "D:\\GiannisM\\Downloads\\Exercises\\Fiver\\100. frotribe FFNN Multiclass Classification\n",
      "D:\\GiannisM\\Downloads\\Exercises\\Fiver\\100. frotribe FFNN Multiclass Classification/Data\n",
      "D:\\GiannisM\\Downloads\\Exercises\\Fiver\\100. frotribe FFNN Multiclass Classification/Models\n"
     ]
    }
   ],
   "source": [
    "#Configuring the basic structure of our current directory\n",
    "path_root = f\"{os.getcwd()}\"\n",
    "path_data = f\"{Path(path_root).absolute()}/Data\"\n",
    "path_models = f\"{path_root}/Models\"\n",
    "print(path_root)\n",
    "print(path_data)\n",
    "print(path_models)"
   ]
  },
  {
   "cell_type": "code",
   "execution_count": 56,
   "metadata": {
    "hidden": true,
    "scrolled": false
   },
   "outputs": [
    {
     "data": {
      "text/html": [
       "<div>\n",
       "<style scoped>\n",
       "    .dataframe tbody tr th:only-of-type {\n",
       "        vertical-align: middle;\n",
       "    }\n",
       "\n",
       "    .dataframe tbody tr th {\n",
       "        vertical-align: top;\n",
       "    }\n",
       "\n",
       "    .dataframe thead th {\n",
       "        text-align: right;\n",
       "    }\n",
       "</style>\n",
       "<table border=\"1\" class=\"dataframe\">\n",
       "  <thead>\n",
       "    <tr style=\"text-align: right;\">\n",
       "      <th></th>\n",
       "      <th>0</th>\n",
       "      <th>1</th>\n",
       "      <th>2</th>\n",
       "      <th>3</th>\n",
       "      <th>4</th>\n",
       "      <th>5</th>\n",
       "      <th>6</th>\n",
       "      <th>7</th>\n",
       "      <th>8</th>\n",
       "      <th>9</th>\n",
       "      <th>...</th>\n",
       "      <th>1191</th>\n",
       "      <th>1192</th>\n",
       "      <th>1193</th>\n",
       "      <th>1194</th>\n",
       "      <th>1195</th>\n",
       "      <th>1196</th>\n",
       "      <th>1197</th>\n",
       "      <th>1198</th>\n",
       "      <th>1199</th>\n",
       "      <th>1200</th>\n",
       "    </tr>\n",
       "  </thead>\n",
       "  <tbody>\n",
       "    <tr>\n",
       "      <th>0</th>\n",
       "      <td>1</td>\n",
       "      <td>0.147911</td>\n",
       "      <td>0.133120</td>\n",
       "      <td>0.025052</td>\n",
       "      <td>-0.070056</td>\n",
       "      <td>-0.060896</td>\n",
       "      <td>-0.121567</td>\n",
       "      <td>-0.098642</td>\n",
       "      <td>-0.011251</td>\n",
       "      <td>-0.005818</td>\n",
       "      <td>...</td>\n",
       "      <td>0.0</td>\n",
       "      <td>0.0</td>\n",
       "      <td>0.0</td>\n",
       "      <td>0.0</td>\n",
       "      <td>0.0</td>\n",
       "      <td>0.0</td>\n",
       "      <td>0.0</td>\n",
       "      <td>0.0</td>\n",
       "      <td>0.0</td>\n",
       "      <td>0.0</td>\n",
       "    </tr>\n",
       "    <tr>\n",
       "      <th>1</th>\n",
       "      <td>1</td>\n",
       "      <td>0.096198</td>\n",
       "      <td>-0.066323</td>\n",
       "      <td>-0.180289</td>\n",
       "      <td>-0.175182</td>\n",
       "      <td>-0.108132</td>\n",
       "      <td>-0.080090</td>\n",
       "      <td>0.250950</td>\n",
       "      <td>-0.125172</td>\n",
       "      <td>0.287903</td>\n",
       "      <td>...</td>\n",
       "      <td>0.0</td>\n",
       "      <td>0.0</td>\n",
       "      <td>0.0</td>\n",
       "      <td>0.0</td>\n",
       "      <td>0.0</td>\n",
       "      <td>0.0</td>\n",
       "      <td>0.0</td>\n",
       "      <td>0.0</td>\n",
       "      <td>0.0</td>\n",
       "      <td>0.0</td>\n",
       "    </tr>\n",
       "    <tr>\n",
       "      <th>2</th>\n",
       "      <td>1</td>\n",
       "      <td>-0.500452</td>\n",
       "      <td>-0.502092</td>\n",
       "      <td>-0.475572</td>\n",
       "      <td>-0.425861</td>\n",
       "      <td>-0.389736</td>\n",
       "      <td>-0.402447</td>\n",
       "      <td>-0.495722</td>\n",
       "      <td>-0.568901</td>\n",
       "      <td>-0.576617</td>\n",
       "      <td>...</td>\n",
       "      <td>0.0</td>\n",
       "      <td>0.0</td>\n",
       "      <td>0.0</td>\n",
       "      <td>0.0</td>\n",
       "      <td>0.0</td>\n",
       "      <td>0.0</td>\n",
       "      <td>0.0</td>\n",
       "      <td>0.0</td>\n",
       "      <td>0.0</td>\n",
       "      <td>0.0</td>\n",
       "    </tr>\n",
       "    <tr>\n",
       "      <th>3</th>\n",
       "      <td>1</td>\n",
       "      <td>-0.307718</td>\n",
       "      <td>-0.320017</td>\n",
       "      <td>-0.344007</td>\n",
       "      <td>-0.309607</td>\n",
       "      <td>-0.289414</td>\n",
       "      <td>-0.333693</td>\n",
       "      <td>-0.414461</td>\n",
       "      <td>-0.556066</td>\n",
       "      <td>-0.711506</td>\n",
       "      <td>...</td>\n",
       "      <td>0.0</td>\n",
       "      <td>0.0</td>\n",
       "      <td>0.0</td>\n",
       "      <td>0.0</td>\n",
       "      <td>0.0</td>\n",
       "      <td>0.0</td>\n",
       "      <td>0.0</td>\n",
       "      <td>0.0</td>\n",
       "      <td>0.0</td>\n",
       "      <td>0.0</td>\n",
       "    </tr>\n",
       "    <tr>\n",
       "      <th>4</th>\n",
       "      <td>1</td>\n",
       "      <td>-0.103104</td>\n",
       "      <td>-0.148786</td>\n",
       "      <td>-0.189899</td>\n",
       "      <td>-0.093382</td>\n",
       "      <td>0.025787</td>\n",
       "      <td>0.158881</td>\n",
       "      <td>0.220521</td>\n",
       "      <td>0.142476</td>\n",
       "      <td>0.063623</td>\n",
       "      <td>...</td>\n",
       "      <td>0.0</td>\n",
       "      <td>0.0</td>\n",
       "      <td>0.0</td>\n",
       "      <td>0.0</td>\n",
       "      <td>0.0</td>\n",
       "      <td>0.0</td>\n",
       "      <td>0.0</td>\n",
       "      <td>0.0</td>\n",
       "      <td>0.0</td>\n",
       "      <td>0.0</td>\n",
       "    </tr>\n",
       "    <tr>\n",
       "      <th>...</th>\n",
       "      <td>...</td>\n",
       "      <td>...</td>\n",
       "      <td>...</td>\n",
       "      <td>...</td>\n",
       "      <td>...</td>\n",
       "      <td>...</td>\n",
       "      <td>...</td>\n",
       "      <td>...</td>\n",
       "      <td>...</td>\n",
       "      <td>...</td>\n",
       "      <td>...</td>\n",
       "      <td>...</td>\n",
       "      <td>...</td>\n",
       "      <td>...</td>\n",
       "      <td>...</td>\n",
       "      <td>...</td>\n",
       "      <td>...</td>\n",
       "      <td>...</td>\n",
       "      <td>...</td>\n",
       "      <td>...</td>\n",
       "      <td>...</td>\n",
       "    </tr>\n",
       "    <tr>\n",
       "      <th>4830</th>\n",
       "      <td>8</td>\n",
       "      <td>-0.064396</td>\n",
       "      <td>-0.178618</td>\n",
       "      <td>-0.246944</td>\n",
       "      <td>-0.049874</td>\n",
       "      <td>0.179200</td>\n",
       "      <td>0.079402</td>\n",
       "      <td>0.045606</td>\n",
       "      <td>0.273751</td>\n",
       "      <td>0.224829</td>\n",
       "      <td>...</td>\n",
       "      <td>0.0</td>\n",
       "      <td>0.0</td>\n",
       "      <td>0.0</td>\n",
       "      <td>0.0</td>\n",
       "      <td>0.0</td>\n",
       "      <td>0.0</td>\n",
       "      <td>0.0</td>\n",
       "      <td>0.0</td>\n",
       "      <td>0.0</td>\n",
       "      <td>0.0</td>\n",
       "    </tr>\n",
       "    <tr>\n",
       "      <th>4831</th>\n",
       "      <td>8</td>\n",
       "      <td>0.117115</td>\n",
       "      <td>0.049382</td>\n",
       "      <td>0.134941</td>\n",
       "      <td>0.065425</td>\n",
       "      <td>0.011479</td>\n",
       "      <td>0.212872</td>\n",
       "      <td>0.394126</td>\n",
       "      <td>0.320238</td>\n",
       "      <td>0.258048</td>\n",
       "      <td>...</td>\n",
       "      <td>0.0</td>\n",
       "      <td>0.0</td>\n",
       "      <td>0.0</td>\n",
       "      <td>0.0</td>\n",
       "      <td>0.0</td>\n",
       "      <td>0.0</td>\n",
       "      <td>0.0</td>\n",
       "      <td>0.0</td>\n",
       "      <td>0.0</td>\n",
       "      <td>0.0</td>\n",
       "    </tr>\n",
       "    <tr>\n",
       "      <th>4832</th>\n",
       "      <td>8</td>\n",
       "      <td>0.213987</td>\n",
       "      <td>0.145185</td>\n",
       "      <td>0.117739</td>\n",
       "      <td>0.140440</td>\n",
       "      <td>0.290152</td>\n",
       "      <td>0.308540</td>\n",
       "      <td>0.079455</td>\n",
       "      <td>0.088747</td>\n",
       "      <td>0.010922</td>\n",
       "      <td>...</td>\n",
       "      <td>0.0</td>\n",
       "      <td>0.0</td>\n",
       "      <td>0.0</td>\n",
       "      <td>0.0</td>\n",
       "      <td>0.0</td>\n",
       "      <td>0.0</td>\n",
       "      <td>0.0</td>\n",
       "      <td>0.0</td>\n",
       "      <td>0.0</td>\n",
       "      <td>0.0</td>\n",
       "    </tr>\n",
       "    <tr>\n",
       "      <th>4833</th>\n",
       "      <td>8</td>\n",
       "      <td>0.088052</td>\n",
       "      <td>0.105103</td>\n",
       "      <td>-0.000214</td>\n",
       "      <td>0.090305</td>\n",
       "      <td>0.115749</td>\n",
       "      <td>0.151577</td>\n",
       "      <td>0.101945</td>\n",
       "      <td>0.152081</td>\n",
       "      <td>-0.005337</td>\n",
       "      <td>...</td>\n",
       "      <td>0.0</td>\n",
       "      <td>0.0</td>\n",
       "      <td>0.0</td>\n",
       "      <td>0.0</td>\n",
       "      <td>0.0</td>\n",
       "      <td>0.0</td>\n",
       "      <td>0.0</td>\n",
       "      <td>0.0</td>\n",
       "      <td>0.0</td>\n",
       "      <td>0.0</td>\n",
       "    </tr>\n",
       "    <tr>\n",
       "      <th>4834</th>\n",
       "      <td>8</td>\n",
       "      <td>0.115733</td>\n",
       "      <td>0.043828</td>\n",
       "      <td>0.224749</td>\n",
       "      <td>0.098849</td>\n",
       "      <td>0.132058</td>\n",
       "      <td>0.092996</td>\n",
       "      <td>0.096625</td>\n",
       "      <td>0.142984</td>\n",
       "      <td>0.051117</td>\n",
       "      <td>...</td>\n",
       "      <td>0.0</td>\n",
       "      <td>0.0</td>\n",
       "      <td>0.0</td>\n",
       "      <td>0.0</td>\n",
       "      <td>0.0</td>\n",
       "      <td>0.0</td>\n",
       "      <td>0.0</td>\n",
       "      <td>0.0</td>\n",
       "      <td>0.0</td>\n",
       "      <td>0.0</td>\n",
       "    </tr>\n",
       "  </tbody>\n",
       "</table>\n",
       "<p>4835 rows × 1201 columns</p>\n",
       "</div>"
      ],
      "text/plain": [
       "      0         1         2         3         4         5         6     \\\n",
       "0        1  0.147911  0.133120  0.025052 -0.070056 -0.060896 -0.121567   \n",
       "1        1  0.096198 -0.066323 -0.180289 -0.175182 -0.108132 -0.080090   \n",
       "2        1 -0.500452 -0.502092 -0.475572 -0.425861 -0.389736 -0.402447   \n",
       "3        1 -0.307718 -0.320017 -0.344007 -0.309607 -0.289414 -0.333693   \n",
       "4        1 -0.103104 -0.148786 -0.189899 -0.093382  0.025787  0.158881   \n",
       "...    ...       ...       ...       ...       ...       ...       ...   \n",
       "4830     8 -0.064396 -0.178618 -0.246944 -0.049874  0.179200  0.079402   \n",
       "4831     8  0.117115  0.049382  0.134941  0.065425  0.011479  0.212872   \n",
       "4832     8  0.213987  0.145185  0.117739  0.140440  0.290152  0.308540   \n",
       "4833     8  0.088052  0.105103 -0.000214  0.090305  0.115749  0.151577   \n",
       "4834     8  0.115733  0.043828  0.224749  0.098849  0.132058  0.092996   \n",
       "\n",
       "          7         8         9     ...  1191  1192  1193  1194  1195  1196  \\\n",
       "0    -0.098642 -0.011251 -0.005818  ...   0.0   0.0   0.0   0.0   0.0   0.0   \n",
       "1     0.250950 -0.125172  0.287903  ...   0.0   0.0   0.0   0.0   0.0   0.0   \n",
       "2    -0.495722 -0.568901 -0.576617  ...   0.0   0.0   0.0   0.0   0.0   0.0   \n",
       "3    -0.414461 -0.556066 -0.711506  ...   0.0   0.0   0.0   0.0   0.0   0.0   \n",
       "4     0.220521  0.142476  0.063623  ...   0.0   0.0   0.0   0.0   0.0   0.0   \n",
       "...        ...       ...       ...  ...   ...   ...   ...   ...   ...   ...   \n",
       "4830  0.045606  0.273751  0.224829  ...   0.0   0.0   0.0   0.0   0.0   0.0   \n",
       "4831  0.394126  0.320238  0.258048  ...   0.0   0.0   0.0   0.0   0.0   0.0   \n",
       "4832  0.079455  0.088747  0.010922  ...   0.0   0.0   0.0   0.0   0.0   0.0   \n",
       "4833  0.101945  0.152081 -0.005337  ...   0.0   0.0   0.0   0.0   0.0   0.0   \n",
       "4834  0.096625  0.142984  0.051117  ...   0.0   0.0   0.0   0.0   0.0   0.0   \n",
       "\n",
       "      1197  1198  1199  1200  \n",
       "0      0.0   0.0   0.0   0.0  \n",
       "1      0.0   0.0   0.0   0.0  \n",
       "2      0.0   0.0   0.0   0.0  \n",
       "3      0.0   0.0   0.0   0.0  \n",
       "4      0.0   0.0   0.0   0.0  \n",
       "...    ...   ...   ...   ...  \n",
       "4830   0.0   0.0   0.0   0.0  \n",
       "4831   0.0   0.0   0.0   0.0  \n",
       "4832   0.0   0.0   0.0   0.0  \n",
       "4833   0.0   0.0   0.0   0.0  \n",
       "4834   0.0   0.0   0.0   0.0  \n",
       "\n",
       "[4835 rows x 1201 columns]"
      ]
     },
     "metadata": {},
     "output_type": "display_data"
    },
    {
     "name": "stdout",
     "output_type": "stream",
     "text": [
      "X_Data.shape : (4835, 1200) min: -40.75 max: 49.11 Y_Data.shape : (4835,)\n",
      "X_Train.shape: (3868, 1200) min: -48.25 max: 51.08 Y_Train.shape: (3868,)\n",
      "X_Valid.shape: (483, 1200) min: -54.38 max: 36.09 Y_Valid.shape: (483,)\n",
      "X_Test.shape : (484, 1200) min: -26.58 max: 37.10 Y_Test.shape : (484,)\n",
      "K_Length: 8\n",
      "N: 3868 H1: 1 W1: 1 D_Length: 1200\n",
      "\n",
      "Classes:\n"
     ]
    },
    {
     "data": {
      "image/png": "[encoded data removed]",
      "text/plain": [
       "<Figure size 936x288 with 1 Axes>"
      ]
     },
     "metadata": {},
     "output_type": "display_data"
    },
    {
     "name": "stdout",
     "output_type": "stream",
     "text": [
      "0: 12.18% [  589]\n",
      "1: 11.35% [  549]\n",
      "2:  9.87% [  477]\n",
      "3:  9.64% [  466]\n",
      "4: 12.57% [  608]\n",
      "5: 12.86% [  622]\n",
      "6:  9.06% [  438]\n",
      "7: 22.46% [ 1086]\n",
      "\n",
      "Classes [TRAIN]:\n"
     ]
    },
    {
     "data": {
      "image/png": "[encoded data removed]",
      "text/plain": [
       "<Figure size 936x288 with 1 Axes>"
      ]
     },
     "metadata": {},
     "output_type": "display_data"
    },
    {
     "name": "stdout",
     "output_type": "stream",
     "text": [
      "\n",
      "Classes [Valid]:\n"
     ]
    },
    {
     "data": {
      "image/png": "[encoded data removed]",
      "text/plain": [
       "<Figure size 936x288 with 1 Axes>"
      ]
     },
     "metadata": {},
     "output_type": "display_data"
    },
    {
     "name": "stdout",
     "output_type": "stream",
     "text": [
      "\n",
      "Classes [Test ]:\n"
     ]
    },
    {
     "data": {
      "image/png": "[encoded data removed]",
      "text/plain": [
       "<Figure size 936x288 with 1 Axes>"
      ]
     },
     "metadata": {},
     "output_type": "display_data"
    },
    {
     "name": "stdout",
     "output_type": "stream",
     "text": [
      "0: Train 12.18% [  471], Valid 12.22% [   59], Test 12.19% [   59]\n",
      "1: Train 11.35% [  439], Valid 11.39% [   55], Test 11.36% [   55]\n",
      "2: Train  9.88% [  382], Valid  9.73% [   47], Test  9.92% [   48]\n",
      "3: Train  9.64% [  373], Valid  9.73% [   47], Test  9.50% [   46]\n",
      "4: Train 12.56% [  486], Valid 12.63% [   61], Test 12.60% [   61]\n",
      "5: Train 12.87% [  498], Valid 12.84% [   62], Test 12.81% [   62]\n",
      "6: Train  9.05% [  350], Valid  9.11% [   44], Test  9.09% [   44]\n",
      "7: Train 22.47% [  869], Valid 22.36% [  108], Test 22.52% [  109]\n",
      "\n",
      "Done\n"
     ]
    }
   ],
   "source": [
    "############################\n",
    "## Data Hyperparameters ####\n",
    "Seed           = 42\n",
    "batch_size     = 256\n",
    "TrainPerc      = 0.8\n",
    "ValidPerc      = 0.1\n",
    "TestPerc       = 1 - TrainPerc - ValidPerc\n",
    "CustomNAString = None\n",
    "#############################\n",
    "\n",
    "########################\n",
    "### Reading the Data ###\n",
    "Classes = ['drinking water', 'smoking', 'standing up', 'sit down', 'mopping the floor', 'sweeping the floor', 'walking', 'unknown']\n",
    "XY_DF = pd.read_csv(f\"{path_data}/11-16 (1).csv\", header = None)\n",
    "display(XY_DF)\n",
    "########################\n",
    "\n",
    "####################\n",
    "### Handling NAs ###\n",
    "NBeforeCustomNADrop = None\n",
    "DroppedCustomNARows = None\n",
    "NBeforeNADrop = len(XY_DF)\n",
    "XY_DF = XY_DF.dropna()\n",
    "DroppedNARows = NBeforeNADrop - len(XY_DF)\n",
    "if DroppedNARows > 0:\n",
    "    print(f\"Dropped NA rows count: {DroppedNARows} (out of {NBeforeNADrop})\")\n",
    "\n",
    "if CustomNAString is not None:\n",
    "    NBeforeCustomNADrop = len(XY_DF)\n",
    "    XY_DF = XY_DF.replace(CustomNAString, np.nan, regex = False).dropna()\n",
    "    DroppedCustomNARows = NBeforeCustomNADrop - len(XY_DF)\n",
    "    if DroppedCustomNARows > 0:\n",
    "        print(f\"Dropped custom NA rows count: {DroppedCustomNARows} (out of {NBeforeCustomNADrop})\", )\n",
    "if DroppedNARows > 0 or (DroppedCustomNARows is not None and DroppedCustomNARows > 0):\n",
    "    print()\n",
    "####################\n",
    "\n",
    "######################################\n",
    "### Creating Train/Valid/Test sets ###\n",
    "X_Data = XY_DF.iloc[:, 1:].values.astype(np.float32)\n",
    "Y_Data = XY_DF.iloc[:, 0 ].values.astype(int).squeeze() - 1\n",
    "\n",
    "Labels_Data  = np.array([Classes[y] for y in Y_Data])\n",
    "\n",
    "#==Stratified Split\n",
    "TrainIndx, ValidIndx, TestIndx = train_valid_test_split(np.arange(X_Data.shape[0]), train_size = TrainPerc, valid_size = ValidPerc, Y_Data = None, random_state = Seed, shuffle = True, stratify = Y_Data)\n",
    "X_Train      =      X_Data[TrainIndx]\n",
    "Y_Train      =      Y_Data[TrainIndx]\n",
    "Labels_Train = Labels_Data[TrainIndx]\n",
    "X_Valid      =      X_Data[ValidIndx]\n",
    "Y_Valid      =      Y_Data[ValidIndx]\n",
    "Labels_Valid = Labels_Data[ValidIndx]\n",
    "X_Test       =      X_Data[TestIndx ]\n",
    "Y_Test       =      Y_Data[TestIndx ]\n",
    "Labels_Test  = Labels_Data[TestIndx ]\n",
    "######################################\n",
    "\n",
    "########################\n",
    "### Scaling the Data ###\n",
    "# scaler = LoadVariable(f\"{SaveFolder}/scaler\") #After loading a model with a different scaler we need to re-run this using the newly loaded scaler.\n",
    "# print(\"\\n\\n\\n!!!!!!!!!!!!\\nDEBUGGING:\\nScaling with SaveFolder scaler!!!\\n!!!!!!!!!!!!\\n\\n\\n\")\n",
    "\n",
    "# if os.path.exists(f\"{path_models}/scaler\"):\n",
    "#     print(\"!!\\n!! Using saved scaler.\\n!!\\n\")\n",
    "#     scaler = LoadVariable(f\"{path_models}/scaler\")\n",
    "# else:\n",
    "scaler = StandardScaler(with_mean = True, with_std = True).fit(X_Train)\n",
    "SaveVariable(scaler, f\"{path_models}/scaler\")\n",
    "\n",
    "scaler_mean = scaler.mean_\n",
    "scaler_sd = scaler.scale_\n",
    "scaler_mean_sd = (scaler_mean, scaler_sd)\n",
    "\n",
    "#Numpy takes care of the broadcasting automatically\n",
    "X_Train      = Scale(X_Train, *scaler_mean_sd)\n",
    "X_Valid      = Scale(X_Valid, *scaler_mean_sd)\n",
    "X_Test       = Scale(X_Test , *scaler_mean_sd)\n",
    "########################\n",
    "\n",
    "# ###################################\n",
    "# ### Creating Dataset/Dataloader ###\n",
    "Dataset_Train = TensorDataset(torch.from_numpy(X_Train), torch.from_numpy(Y_Train))\n",
    "Dataset_Valid = TensorDataset(torch.from_numpy(X_Valid), torch.from_numpy(Y_Valid))\n",
    "Dataset_Test  = TensorDataset(torch.from_numpy(X_Test ), torch.from_numpy(Y_Test ))\n",
    "\n",
    "Loader_Train = torch.utils.data.DataLoader(\n",
    "    dataset = Dataset_Train,\n",
    "    batch_size = batch_size,\n",
    "    shuffle = True,\n",
    "    pin_memory = True\n",
    "    \n",
    ")\n",
    "Loader_Valid = torch.utils.data.DataLoader(\n",
    "    dataset = Dataset_Valid,\n",
    "    batch_size = batch_size,\n",
    "    shuffle = False,\n",
    "    pin_memory = True\n",
    ")\n",
    "Loader_Test = torch.utils.data.DataLoader(\n",
    "    dataset = Dataset_Test,\n",
    "    batch_size = batch_size,\n",
    "    shuffle = False,\n",
    "    pin_memory = True\n",
    ")\n",
    "# ###################################\n",
    "\n",
    "##############################\n",
    "### Extracting Information ###\n",
    "tmpx, tmpy = next(iter(Loader_Valid))\n",
    "K_Length, O_Length, N, D_Length, H1, W1 = len(set(Y_Train.squeeze().tolist())), 1, len(Y_Train), tmpx.shape[1], 1, 1\n",
    "print(f\"X_Data.shape : {(len(X_Data ), *tmpx.shape[1:])} min: {X_Data.min():.2f} max: {X_Data.max():.2f} Y_Data.shape : {Y_Data.shape }\")\n",
    "print(f\"X_Train.shape: {(len(X_Train), *tmpx.shape[1:])} min: {X_Train.min():.2f} max: {X_Train.max():.2f} Y_Train.shape: {Y_Train.shape}\")\n",
    "print(f\"X_Valid.shape: {(len(X_Valid), *tmpx.shape[1:])} min: {X_Valid.min():.2f} max: {X_Valid.max():.2f} Y_Valid.shape: {Y_Valid.shape}\")\n",
    "print(f\"X_Test.shape : {(len(X_Test ), *tmpx.shape[1:])} min: {X_Test.min():.2f} max: {X_Test.max():.2f} Y_Test.shape : {Y_Test.shape }\")\n",
    "print(f\"K_Length: {K_Length}\")\n",
    "print(f\"N: {N} H1: {H1} W1: {W1} D_Length: {D_Length}\")\n",
    "\n",
    "plt.rcParams['figure.figsize'] = [13, 4]\n",
    "print(f\"\\nClasses:\")\n",
    "sns.countplot(x = [Classes[int(y)] for y in sorted(Y_Data.squeeze())])\n",
    "plt.show()\n",
    "\n",
    "CountData = sorted(Counter(Y_Data.squeeze()).items())\n",
    "FreqKeys = [kv[0] for kv in CountData]\n",
    "FreqData = np.array([kv[1] for kv in CountData]) / len(Y_Data) * 100\n",
    "for i in range(len(FreqData)):\n",
    "    print(f\"{FreqKeys[i]}: {SpaceAString(f'{FreqData[i]:.2f}', MaxLength = 5)}% [{SpaceAString(f'{CountData[i][1]}', MaxLength = 5)}]\")\n",
    "\n",
    "print(f\"\\nClasses [TRAIN]:\")\n",
    "sns.countplot(x = [Classes[int(y)] for y in sorted(Y_Train.squeeze())])\n",
    "plt.show()\n",
    "\n",
    "print(f\"\\nClasses [Valid]:\")\n",
    "sns.countplot(x = [Classes[int(y)] for y in sorted(Y_Valid.squeeze())])\n",
    "plt.show()\n",
    "\n",
    "print(f\"\\nClasses [Test ]:\")\n",
    "sns.countplot(x = [Classes[int(y)] for y in sorted(Y_Test.squeeze() )])\n",
    "plt.show()\n",
    "\n",
    "CountTrain = sorted(Counter(Y_Train.squeeze()).items())\n",
    "FreqTrain  = np.array([kv[1] for kv in CountTrain]) / len(Y_Train) * 100\n",
    "CountValid = sorted(Counter(Y_Valid.squeeze()).items())\n",
    "FreqValid  = np.array([kv[1] for kv in CountValid]) / len(Y_Valid) * 100\n",
    "CountTest  = sorted(Counter(Y_Test.squeeze()).items())\n",
    "FreqTest   = np.array([kv[1] for kv in CountTest ]) / len(Y_Test ) * 100\n",
    "\n",
    "for i in range(len(FreqKeys)):\n",
    "    print(f\"{FreqKeys[i]}: Train {SpaceAString(f'{FreqTrain[i]:.2f}', MaxLength = 5)}% [{SpaceAString(f'{CountTrain[i][1]}', MaxLength = 5)}], Valid {SpaceAString(f'{FreqValid[i]:.2f}', MaxLength = 5)}% [{SpaceAString(f'{CountValid[i][1]}', MaxLength = 5)}], Test {SpaceAString(f'{FreqTest[i]:.2f}', MaxLength = 5)}% [{SpaceAString(f'{CountTest[i][1]}', MaxLength = 5)}]\")\n",
    "##############################\n",
    "\n",
    "print(\"\\nDone\")"
   ]
  },
  {
   "cell_type": "markdown",
   "metadata": {},
   "source": [
    "# Neural Network"
   ]
  },
  {
   "cell_type": "markdown",
   "metadata": {},
   "source": [
    "## Hyper Parameters"
   ]
  },
  {
   "cell_type": "code",
   "execution_count": 155,
   "metadata": {
    "ExecuteTime": {
     "end_time": "2022-01-30T01:08:13.373392Z",
     "start_time": "2022-01-30T01:08:13.363892Z"
    },
    "scrolled": false
   },
   "outputs": [
    {
     "name": "stdout",
     "output_type": "stream",
     "text": [
      "conv_input_size: (48, 48, 1), input_size: 2304, D_Length: 1, output_size: 3\n",
      "\n",
      "nPadding: [2, 2, 2, None, None]\n",
      "X's Dims: [28, 28, 14, 50176, 512, 1024]\n",
      "num_units [1, 64, 128, 256, 512, 1024]\n",
      "\n",
      "batch_size: 256\n"
     ]
    }
   ],
   "source": [
    "conv_input_size = (H1, W1, D_Length)\n",
    "input_size = np.prod(conv_input_size)\n",
    "output_size = K_Length\n",
    "print(\"conv_input_size: \" + str(conv_input_size) + \", input_size: \" + str(input_size) + \", D_Length: \" + str(D_Length) + \", output_size: \" + str(output_size))\n",
    "hn1 = D_Length\n",
    "\n",
    "ReluAlpha = 0\n",
    "EluAlpha = 0\n",
    "\n",
    "layer_type = [\"conv\", \"stridedconv\", \"convpool\", \"dense\", \"dense\"]\n",
    "NUM = 2\n",
    "num_units = [hn1, 32, 64, 128, 256, 512]\n",
    "num_units = [num_units[0]] + [n_unit * NUM for n_unit in num_units[1:]]\n",
    "activation = [\"relu\", \"relu\", \"relu\", \"relu\", \"relu\"]\n",
    "dropout = [0.3, 0.3, 0.3, 0.4, 0.4]\n",
    "usebias = [False, False, False, True, True] + [True]\n",
    "###\n",
    "batchnorm_momentum = [0.7, 0.7, 0.7, None, None]\n",
    "###\n",
    "conv_filter_size   = 5\n",
    "conv_mode          = [\"same\" if l in [\"conv\", \"stridedconv\", \"convpool\"] else None for l in layer_type]\n",
    "conv_stride        = 2\n",
    "conv_dilation      = 1\n",
    "###\n",
    "conv_pool_size     = 2\n",
    "conv_pool_dilation = 1 #Dilation on Pooling layer\n",
    "conv_pool_stride   = conv_pool_size #Stride on Pooling: a 2x2 pooling with stride 2 will half the size of an image\n",
    "conv_pool_padding  = 0 #Used when the input size is not an integer multiple of the kernel size, so usually just 0.\n",
    "###\n",
    "conv_padding, conv_output_size = [2, 2, 2, None, None], [28, 28, 14, 36864, *num_units[-2:]] #18432 #36864\n",
    "print()\n",
    "print(\"nPadding:\", conv_padding)\n",
    "print(\"X's Dims:\", conv_output_size)\n",
    "print(\"num_units\", num_units)\n",
    "print(f\"\\nbatch_size: {batch_size}\")\n",
    "\n",
    "l2_lamda = 0.35\n",
    "mu = 0.99 #Momentum"
   ]
  },
  {
   "cell_type": "code",
   "execution_count": 161,
   "metadata": {},
   "outputs": [
    {
     "name": "stdout",
     "output_type": "stream",
     "text": [
      "conv_input_size: (1200,), input_size: 1200, D_Length: 1200, output_size: 1\n",
      "doFlatten= False\n",
      "\n",
      "num_units [1200, 128, 256, 512]\n",
      "\n",
      "batch_size: 256\n"
     ]
    }
   ],
   "source": [
    "#Regular\n",
    "conv_input_size = X_Train[0].shape if X_Train is not None else X_Data[0].shape #Also used in RNNs\n",
    "\n",
    "input_size = np.prod(conv_input_size)\n",
    "output_size = np.prod(O_Length)\n",
    "\n",
    "print(\"conv_input_size: \" + str(conv_input_size) + \", input_size: \" + str(input_size) + \", D_Length: \" + str(D_Length) + \", output_size: \" + str(output_size))\n",
    "\n",
    "hn1 = D_Length\n",
    "\n",
    "ReluAlpha = 0 #0.01 def leakyRelu\n",
    "EluAlpha = 0.8\n",
    "\n",
    "layer_type     = [\"dense\", \"dense\", \"dense\"]\n",
    "###\n",
    "NUM = 1\n",
    "num_units = [hn1, 128, 256, 512]\n",
    "num_units = num_units if len(num_units) == 1 else [num_units[0]] + [num_units[LayerIndex+1] if layer_type[LayerIndex] in [\"transfenc\", \"customtransfenc\"] else num_units[LayerIndex+1] * NUM for LayerIndex in range(len(layer_type))] #MAKING SURE TRANSFORMER INPUT AND OUTPUT num_units ARE THE SAME AFTER NUM IS APPLIED\n",
    "###\n",
    "activation = [\"relu\"] + [\"relu\"] * (len(layer_type)-1) #None, \"relu6\" \"relu\", \"elu\", \"softplus\", \"tanh\", \"sigmoid\"\n",
    "###\n",
    "dropout    = [0.3] * 1 + [0.3] * (len(layer_type)-1)\n",
    "###\n",
    "usebias    = [True] * len(layer_type) + [True]\n",
    "###\n",
    "l2_lamda = 0.25\n",
    "mu = 0.99 #Momentum\n",
    "###\n",
    "print()\n",
    "print(\"num_units\", num_units)\n",
    "print(f\"\\nbatch_size: {batch_size}\")"
   ]
  },
  {
   "cell_type": "markdown",
   "metadata": {},
   "source": [
    "## Optimisation"
   ]
  },
  {
   "cell_type": "markdown",
   "metadata": {},
   "source": [
    "### Structure"
   ]
  },
  {
   "cell_type": "code",
   "execution_count": 162,
   "metadata": {
    "ExecuteTime": {
     "end_time": "2022-01-30T01:08:16.333892Z",
     "start_time": "2022-01-30T01:08:16.284892Z"
    },
    "scrolled": false
   },
   "outputs": [
    {
     "name": "stdout",
     "output_type": "stream",
     "text": [
      "cuda\n",
      "Net(\n",
      "  (layers): ModuleList(\n",
      "    (0): Linear(in_features=1200, out_features=128, bias=True)\n",
      "    (1): ReLU()\n",
      "    (2): Dropout(p=0.3, inplace=False)\n",
      "    (3): Linear(in_features=128, out_features=256, bias=True)\n",
      "    (4): ReLU()\n",
      "    (5): Dropout(p=0.3, inplace=False)\n",
      "    (6): Linear(in_features=256, out_features=512, bias=True)\n",
      "    (7): ReLU()\n",
      "    (8): Dropout(p=0.3, inplace=False)\n",
      "    (9): Linear(in_features=512, out_features=8, bias=True)\n",
      "  )\n",
      ")\n"
     ]
    }
   ],
   "source": [
    "print(device)\n",
    "Debug = False\n",
    "\n",
    "model = Net(K_Length, num_units, activation, dropout, usebias)\n",
    "# if device != \"cpu\":\n",
    "#     model = nn.DataParallel(model)\n",
    "print(model)\n",
    "\n",
    "#Initialising the Metrics\n",
    "train_losses, train_metric1s, train_metric2s, train_metric3s, valid_losses, valid_metric1s, valid_metric2s, valid_metric3s = np.array([]), np.array([]), np.array([]), np.array([]), np.array([]), np.array([]), np.array([]), np.array([])\n",
    "train_best_loss, valid_best_loss, valid_best_metric1, valid_best_metric2, valid_best_metric3 = np.Inf, np.Inf, 0, np.nan, np.nan"
   ]
  },
  {
   "cell_type": "code",
   "execution_count": 163,
   "metadata": {
    "ExecuteTime": {
     "end_time": "2022-01-30T01:08:18.457392Z",
     "start_time": "2022-01-30T01:08:18.411394Z"
    },
    "scrolled": false
   },
   "outputs": [
    {
     "name": "stdout",
     "output_type": "stream",
     "text": [
      "conv_input_size: (1200,) \n",
      "\n",
      "=====================================================================================================================================================================\n",
      "Layer (type:depth-idx)                   Kernel Shape              Input Shape               Output Shape              Param #                   Mult-Adds\n",
      "=====================================================================================================================================================================\n",
      "Net                                      --                        --                        --                        --                        --\n",
      "├─ModuleList: 1-1                        --                        --                        --                        --                        --\n",
      "│    └─Linear: 2-1                       [1200, 128]               [1, 1200]                 [1, 128]                  153,728                   153,728\n",
      "│    └─ReLU: 2-2                         --                        [1, 128]                  [1, 128]                  --                        --\n",
      "│    └─Dropout: 2-3                      --                        [1, 128]                  [1, 128]                  --                        --\n",
      "│    └─Linear: 2-4                       [128, 256]                [1, 128]                  [1, 256]                  33,024                    33,024\n",
      "│    └─ReLU: 2-5                         --                        [1, 256]                  [1, 256]                  --                        --\n",
      "│    └─Dropout: 2-6                      --                        [1, 256]                  [1, 256]                  --                        --\n",
      "│    └─Linear: 2-7                       [256, 512]                [1, 256]                  [1, 512]                  131,584                   131,584\n",
      "│    └─ReLU: 2-8                         --                        [1, 512]                  [1, 512]                  --                        --\n",
      "│    └─Dropout: 2-9                      --                        [1, 512]                  [1, 512]                  --                        --\n",
      "│    └─Linear: 2-10                      [512, 8]                  [1, 512]                  [1, 8]                    4,104                     4,104\n",
      "=====================================================================================================================================================================\n",
      "Total params: 322,440\n",
      "Trainable params: 322,440\n",
      "Non-trainable params: 0\n",
      "Total mult-adds (M): 0.32\n",
      "=====================================================================================================================================================================\n",
      "Input size (MB): 0.00\n",
      "Forward/backward pass size (MB): 0.01\n",
      "Params size (MB): 1.29\n",
      "Estimated Total Size (MB): 1.30\n",
      "=====================================================================================================================================================================\n"
     ]
    }
   ],
   "source": [
    "print(\"conv_input_size:\", conv_input_size, \"\\n\")\n",
    "summary(model, input_size = [1, D_Length], device = device, verbose = 1, col_names = [\"kernel_size\", \"input_size\", \"output_size\", \"num_params\", \"mult_adds\"], depth = 3)\n",
    "\n",
    "if IS_GPU_AVAILABLE:\n",
    "    torch.cuda.empty_cache()"
   ]
  },
  {
   "cell_type": "code",
   "execution_count": 164,
   "metadata": {
    "ExecuteTime": {
     "end_time": "2022-01-30T01:08:19.883392Z",
     "start_time": "2022-01-30T01:08:19.868394Z"
    }
   },
   "outputs": [
    {
     "name": "stdout",
     "output_type": "stream",
     "text": [
      "CrossEntropyLoss\n",
      "Multiclass Classification\n"
     ]
    }
   ],
   "source": [
    "#Setting the Loss Function and Optimisation technique\n",
    "criterion = nn.CrossEntropyLoss() #Using Categorical Cross Entropy loss function\n",
    "print(criterion.__class__.__name__)\n",
    "print(\"Multiclass Classification\")\n",
    "\n",
    "learning_rate = 5e-4\n",
    "optimiser = torch.optim.AdamW(model.parameters(), lr = learning_rate, betas = (mu, 0.999), weight_decay = l2_lamda, amsgrad = False)"
   ]
  },
  {
   "cell_type": "code",
   "execution_count": 165,
   "metadata": {},
   "outputs": [],
   "source": [
    "# for prm_grp in optimiser.param_groups:\n",
    "#     prm_grp['lr'] = 1e-4\n",
    "# #     prm_grp['weight_decay'] = 0.1"
   ]
  },
  {
   "cell_type": "markdown",
   "metadata": {},
   "source": [
    "### Stochastic Gradient Descent (Dataset)"
   ]
  },
  {
   "cell_type": "code",
   "execution_count": 167,
   "metadata": {
    "ExecuteTime": {
     "end_time": "2022-01-30T01:27:00.427892Z",
     "start_time": "2022-01-30T01:21:07.869392Z"
    },
    "scrolled": false
   },
   "outputs": [
    {
     "name": "stdout",
     "output_type": "stream",
     "text": [
      "Epoch 01/50, Train Loss: 0.0633, Test Loss: 1.3704 | Acc: 0.907, AUC: 0.987, F1: 0.906, Duration: 0:00:00.156999\n",
      "Epoch 02/50, Train Loss: 0.0608, Test Loss: 1.3698 | Acc: 0.907, AUC: 0.987, F1: 0.906, Duration: 0:00:00.148500\n",
      "Epoch 03/50, Train Loss: 0.0604, Test Loss: 1.3692 | Acc: 0.911, AUC: 0.986, F1: 0.910, Duration: 0:00:00.146000\n",
      "Epoch 04/50, Train Loss: 0.0555, Test Loss: 1.3688 | Acc: 0.911, AUC: 0.986, F1: 0.910, Duration: 0:00:00.144500\n",
      "Epoch 05/50, Train Loss: 0.0556, Test Loss: 1.3681 | Acc: 0.909, AUC: 0.986, F1: 0.908, Duration: 0:00:00.145000\n",
      "Epoch 06/50, Train Loss: 0.0553, Test Loss: 1.3660 | Acc: 0.915, AUC: 0.986, F1: 0.915, Duration: 0:00:00.147000\n",
      "Epoch 07/50, Train Loss: 0.0550, Test Loss: 1.3648 | Acc: 0.915, AUC: 0.986, F1: 0.915, Duration: 0:00:00.158000\n",
      "Epoch 08/50, Train Loss: 0.0517, Test Loss: 1.3654 | Acc: 0.913, AUC: 0.986, F1: 0.913, Duration: 0:00:00.148000\n",
      "Epoch 09/50, Train Loss: 0.0543, Test Loss: 1.3657 | Acc: 0.913, AUC: 0.985, F1: 0.913, Duration: 0:00:00.159500\n",
      "Epoch 10/50, Train Loss: 0.0520, Test Loss: 1.3660 | Acc: 0.913, AUC: 0.985, F1: 0.913, Duration: 0:00:00.154000\n",
      "Epoch 11/50, Train Loss: 0.0532, Test Loss: 1.3666 | Acc: 0.911, AUC: 0.985, F1: 0.911, Duration: 0:00:00.147999\n",
      "Epoch 12/50, Train Loss: 0.0471, Test Loss: 1.3669 | Acc: 0.913, AUC: 0.985, F1: 0.913, Duration: 0:00:00.148501\n",
      "Epoch 13/50, Train Loss: 0.0492, Test Loss: 1.3676 | Acc: 0.911, AUC: 0.985, F1: 0.910, Duration: 0:00:00.148000\n",
      "Epoch 14/50, Train Loss: 0.0486, Test Loss: 1.3693 | Acc: 0.905, AUC: 0.985, F1: 0.904, Duration: 0:00:00.151498\n",
      "Epoch 15/50, Train Loss: 0.0549, Test Loss: 1.3698 | Acc: 0.907, AUC: 0.985, F1: 0.906, Duration: 0:00:00.151500\n",
      "Epoch 16/50, Train Loss: 0.0502, Test Loss: 1.3704 | Acc: 0.907, AUC: 0.984, F1: 0.905, Duration: 0:00:00.144498\n",
      "Epoch 17/50, Train Loss: 0.0449, Test Loss: 1.3707 | Acc: 0.907, AUC: 0.984, F1: 0.906, Duration: 0:00:00.152000\n",
      "Epoch 18/50, Train Loss: 0.0493, Test Loss: 1.3698 | Acc: 0.905, AUC: 0.984, F1: 0.904, Duration: 0:00:00.150500\n",
      "Epoch 19/50, Train Loss: 0.0482, Test Loss: 1.3689 | Acc: 0.907, AUC: 0.983, F1: 0.906, Duration: 0:00:00.146001\n",
      "Epoch 20/50, Train Loss: 0.0491, Test Loss: 1.3692 | Acc: 0.907, AUC: 0.983, F1: 0.906, Duration: 0:00:00.144500\n",
      "Epoch 21/50, Train Loss: 0.0470, Test Loss: 1.3706 | Acc: 0.905, AUC: 0.983, F1: 0.904, Duration: 0:00:00.146000\n",
      "Epoch 22/50, Train Loss: 0.0427, Test Loss: 1.3716 | Acc: 0.903, AUC: 0.983, F1: 0.902, Duration: 0:00:00.147500\n",
      "Epoch 23/50, Train Loss: 0.0487, Test Loss: 1.3719 | Acc: 0.903, AUC: 0.983, F1: 0.902, Duration: 0:00:00.147999\n",
      "Epoch 24/50, Train Loss: 0.0398, Test Loss: 1.3702 | Acc: 0.907, AUC: 0.983, F1: 0.906, Duration: 0:00:00.145501\n",
      "Epoch 25/50, Train Loss: 0.0410, Test Loss: 1.3689 | Acc: 0.909, AUC: 0.983, F1: 0.909, Duration: 0:00:00.149502\n",
      "Epoch 26/50, Train Loss: 0.0420, Test Loss: 1.3679 | Acc: 0.909, AUC: 0.983, F1: 0.909, Duration: 0:00:00.148498\n",
      "Epoch 27/50, Train Loss: 0.0341, Test Loss: 1.3675 | Acc: 0.909, AUC: 0.984, F1: 0.908, Duration: 0:00:00.151000\n",
      "Epoch 28/50, Train Loss: 0.0438, Test Loss: 1.3674 | Acc: 0.907, AUC: 0.983, F1: 0.906, Duration: 0:00:00.147498\n",
      "Epoch 29/50, Train Loss: 0.0446, Test Loss: 1.3674 | Acc: 0.907, AUC: 0.982, F1: 0.906, Duration: 0:00:00.153000\n",
      "Epoch 30/50, Train Loss: 0.0431, Test Loss: 1.3685 | Acc: 0.907, AUC: 0.982, F1: 0.906, Duration: 0:00:00.144500\n",
      "Epoch 31/50, Train Loss: 0.0428, Test Loss: 1.3689 | Acc: 0.907, AUC: 0.982, F1: 0.906, Duration: 0:00:00.149500\n",
      "Epoch 32/50, Train Loss: 0.0413, Test Loss: 1.3716 | Acc: 0.907, AUC: 0.981, F1: 0.906, Duration: 0:00:00.150500\n",
      "Epoch 33/50, Train Loss: 0.0344, Test Loss: 1.3737 | Acc: 0.907, AUC: 0.981, F1: 0.906, Duration: 0:00:00.151000\n",
      "Epoch 34/50, Train Loss: 0.0388, Test Loss: 1.3728 | Acc: 0.907, AUC: 0.981, F1: 0.906, Duration: 0:00:00.151000\n",
      "Epoch 35/50, Train Loss: 0.0310, Test Loss: 1.3710 | Acc: 0.907, AUC: 0.981, F1: 0.906, Duration: 0:00:00.150500\n",
      "Epoch 36/50, Train Loss: 0.0331, Test Loss: 1.3694 | Acc: 0.905, AUC: 0.981, F1: 0.904, Duration: 0:00:00.146002\n",
      "Epoch 37/50, Train Loss: 0.0317, Test Loss: 1.3682 | Acc: 0.913, AUC: 0.981, F1: 0.912, Duration: 0:00:00.151000\n",
      "Epoch 38/50, Train Loss: 0.0417, Test Loss: 1.3676 | Acc: 0.911, AUC: 0.980, F1: 0.910, Duration: 0:00:00.148000\n",
      "Epoch 39/50, Train Loss: 0.0368, Test Loss: 1.3671 | Acc: 0.911, AUC: 0.979, F1: 0.910, Duration: 0:00:00.147999\n",
      "Epoch 40/50, Train Loss: 0.0324, Test Loss: 1.3665 | Acc: 0.915, AUC: 0.978, F1: 0.914, Duration: 0:00:00.153003\n",
      "Epoch 41/50, Train Loss: 0.0357, Test Loss: 1.3665 | Acc: 0.915, AUC: 0.978, F1: 0.914, Duration: 0:00:00.151998\n",
      "Epoch 42/50, Train Loss: 0.0309, Test Loss: 1.3676 | Acc: 0.915, AUC: 0.978, F1: 0.914, Duration: 0:00:00.150000\n",
      "Epoch 43/50, Train Loss: 0.0287, Test Loss: 1.3697 | Acc: 0.907, AUC: 0.980, F1: 0.905, Duration: 0:00:00.148000\n",
      "Epoch 44/50, Train Loss: 0.0317, Test Loss: 1.3717 | Acc: 0.905, AUC: 0.980, F1: 0.903, Duration: 0:00:00.149500\n",
      "Epoch 45/50, Train Loss: 0.0326, Test Loss: 1.3707 | Acc: 0.907, AUC: 0.980, F1: 0.905, Duration: 0:00:00.155002\n",
      "Epoch 46/50, Train Loss: 0.0275, Test Loss: 1.3670 | Acc: 0.917, AUC: 0.980, F1: 0.916, Duration: 0:00:00.149998\n",
      "Epoch 47/50, Train Loss: 0.0276, Test Loss: 1.3664 | Acc: 0.915, AUC: 0.981, F1: 0.915, Duration: 0:00:00.148500\n",
      "Epoch 48/50, Train Loss: 0.0255, Test Loss: 1.3667 | Acc: 0.915, AUC: 0.980, F1: 0.915, Duration: 0:00:00.147502\n",
      "Epoch 49/50, Train Loss: 0.0329, Test Loss: 1.3671 | Acc: 0.913, AUC: 0.980, F1: 0.912, Duration: 0:00:00.156498\n",
      "Epoch 50/50, Train Loss: 0.0300, Test Loss: 1.3672 | Acc: 0.913, AUC: 0.980, F1: 0.912, Duration: 0:00:00.151502\n",
      "Done (Sun, 2022-09-11 19:42 EEST +0300) Elapsed time: 7.5 seconds\n",
      "\n",
      "train_best_loss: 0.05500, valid_best_loss: 1.36480, Acc: 0.91304, AUC: 0.98049, F1: 0.91242\n"
     ]
    }
   ],
   "source": [
    "Epochs = int(50)\n",
    "PrintInfoEverynEpochs = 1\n",
    "scheduler = None\n",
    "# scheduler = torch.optim.lr_scheduler.StepLR(optimiser, step_size = Epochs // 10 if Epochs > 10 else 3, gamma = 0.8)\n",
    "\n",
    "new_train_losses, new_valid_losses, train_best_loss, valid_best_loss, new_train_metric1s, new_train_metric2s, new_train_metric3s, new_valid_metric1s, new_valid_metric2s, new_valid_metric3s,\\\n",
    "Metric1, Metric2, Metric3, valid_best_metric1, valid_best_metric2, valid_best_metric3, elapsed_time = \\\n",
    "    batch_gd(model, device, criterion, optimiser, scheduler, Loader_Train, Loader_Valid, epochs = Epochs, PrintInfoEverynEpochs = PrintInfoEverynEpochs,\n",
    "             train_best_loss = train_best_loss, test_best_loss = valid_best_loss, BestMetric1 = valid_best_metric1, BestMetric2 = valid_best_metric2, BestMetric3 = valid_best_metric3,\n",
    "             Verbose = False\n",
    "    )\n",
    "\n",
    "train_losses, valid_losses = np.append(train_losses, new_train_losses), np.append(valid_losses, new_valid_losses)\n",
    "train_metric1s, train_metric2s, train_metric3s = np.append(train_metric1s, new_train_metric1s), np.append(train_metric2s, new_train_metric2s), np.append(train_metric3s, new_train_metric3s)\n",
    "valid_metric1s, valid_metric2s, valid_metric3s = np.append(valid_metric1s, new_valid_metric1s), np.append(valid_metric2s, new_valid_metric2s), np.append(valid_metric3s, new_valid_metric3s)\n",
    "train_loss, valid_loss, valid_metric1, valid_metric2, valid_metric3 = LastNonNan(new_train_losses), LastNonNan(new_valid_losses), Metric1, Metric2, Metric3\n",
    "\n",
    "print(f'\\ntrain_best_loss: {train_best_loss:.5f}, valid_best_loss: {valid_best_loss:.5f}, Acc: {valid_metric1:.5f}, AUC: {valid_metric2:.5f}, F1: {valid_metric3:.5f}')\n",
    "\n",
    "if IS_GPU_AVAILABLE:\n",
    "    torch.cuda.empty_cache()\n",
    "if IsWindows:\n",
    "    winsound.PlaySound('SystemExit', winsound.SND_NOSTOP)"
   ]
  },
  {
   "cell_type": "code",
   "execution_count": 150,
   "metadata": {
    "ExecuteTime": {
     "end_time": "2022-01-30T01:30:49.674392Z",
     "start_time": "2022-01-30T01:30:49.578392Z"
    }
   },
   "outputs": [],
   "source": [
    "#Loading the best trained model (in case the last one was overfitted)\n",
    "model.load_state_dict(torch.load(\"model_dict.pt\"))\n",
    "model.eval()\n",
    "train_loss = train_best_loss\n",
    "valid_loss = valid_best_loss\n",
    "valid_metric1 = valid_best_metric1\n",
    "valid_metric2 = valid_best_metric2\n",
    "valid_metric3 = valid_best_metric3"
   ]
  },
  {
   "cell_type": "markdown",
   "metadata": {},
   "source": [
    "# Evaluation"
   ]
  },
  {
   "cell_type": "markdown",
   "metadata": {},
   "source": [
    "## Training Metrics"
   ]
  },
  {
   "cell_type": "code",
   "execution_count": 184,
   "metadata": {
    "ExecuteTime": {
     "end_time": "2022-01-30T01:27:16.346392Z",
     "start_time": "2022-01-30T01:27:15.967392Z"
    }
   },
   "outputs": [
    {
     "data": {
      "image/png": "[encoded data removed]",
      "text/plain": [
       "<Figure size 1368x432 with 1 Axes>"
      ]
     },
     "metadata": {},
     "output_type": "display_data"
    }
   ],
   "source": [
    "PlotHistory(train_losses[-(50):], valid_losses[-(50):], figsize=(19, 6), test_alpha = 1)"
   ]
  },
  {
   "cell_type": "code",
   "execution_count": 185,
   "metadata": {
    "ExecuteTime": {
     "end_time": "2022-01-30T01:27:18.516392Z",
     "start_time": "2022-01-30T01:27:17.925893Z"
    }
   },
   "outputs": [
    {
     "data": {
      "image/png": "[encoded data removed]",
      "text/plain": [
       "<Figure size 1368x720 with 4 Axes>"
      ]
     },
     "metadata": {},
     "output_type": "display_data"
    }
   ],
   "source": [
    "PlotAllMetrics([\"Loss\", \"Acc\", \"AUC\", \"F1\"],\n",
    "               [train_losses, train_metric1s, train_metric2s, train_metric3s],\n",
    "               TestMetrics = [valid_losses, valid_metric1s, valid_metric2s, valid_metric3s],\n",
    "               figsize = [19, 10], test_alpha = 0.90)"
   ]
  },
  {
   "cell_type": "markdown",
   "metadata": {},
   "source": [
    "## Multiclass Classification"
   ]
  },
  {
   "cell_type": "code",
   "execution_count": 195,
   "metadata": {
    "ExecuteTime": {
     "end_time": "2022-01-30T03:00:15.333892Z",
     "start_time": "2022-01-30T03:00:10.453392Z"
    },
    "scrolled": false
   },
   "outputs": [
    {
     "name": "stderr",
     "output_type": "stream",
     "text": [
      "                                                                                                                       \r"
     ]
    },
    {
     "name": "stdout",
     "output_type": "stream",
     "text": [
      "Sample-wise Acc: 94.01%, AUC: 0.99, F1: 0.94\n",
      "Class-wise  Acc: 98.50%, Recall: 0.940, Precision: 0.942\n",
      "\n",
      "Confusion matrix\n",
      "[[ 56   3   0   0   0   0   0   0]\n",
      " [  0  55   0   0   0   0   0   0]\n",
      " [  0   0  48   0   0   0   0   0]\n",
      " [  0   0   0  46   0   0   0   0]\n",
      " [  0   0   0   2  55   3   1   0]\n",
      " [  0   0   0   0  10  50   2   0]\n",
      " [  0   0   0   0   3   1  38   2]\n",
      " [  2   0   0   0   0   0   0 107]]\n"
     ]
    },
    {
     "data": {
      "image/png": "[encoded data removed]",
      "text/plain": [
       "<Figure size 1224x468 with 2 Axes>"
      ]
     },
     "metadata": {},
     "output_type": "display_data"
    },
    {
     "name": "stdout",
     "output_type": "stream",
     "text": [
      "\n",
      "Class drinking water. Sample-Wise Acc: 0.990, Recall: 0.949, Precision: 0.966, F1: 0.957\n"
     ]
    },
    {
     "data": {
      "image/png": "[encoded data removed]",
      "text/plain": [
       "<Figure size 360x360 with 1 Axes>"
      ]
     },
     "metadata": {},
     "output_type": "display_data"
    },
    {
     "name": "stdout",
     "output_type": "stream",
     "text": [
      "\n",
      "Class smoking. Sample-Wise Acc: 0.994, Recall: 1.000, Precision: 0.948, F1: 0.973\n"
     ]
    },
    {
     "data": {
      "image/png": "[encoded data removed]",
      "text/plain": [
       "<Figure size 360x360 with 1 Axes>"
      ]
     },
     "metadata": {},
     "output_type": "display_data"
    },
    {
     "name": "stdout",
     "output_type": "stream",
     "text": [
      "\n",
      "Class standing up. Sample-Wise Acc: 1.000, Recall: 1.000, Precision: 1.000, F1: 1.000\n"
     ]
    },
    {
     "data": {
      "image/png": "[encoded data removed]",
      "text/plain": [
       "<Figure size 360x360 with 1 Axes>"
      ]
     },
     "metadata": {},
     "output_type": "display_data"
    },
    {
     "name": "stdout",
     "output_type": "stream",
     "text": [
      "\n",
      "Class sit down. Sample-Wise Acc: 0.996, Recall: 1.000, Precision: 0.958, F1: 0.979\n"
     ]
    },
    {
     "data": {
      "image/png": "[encoded data removed]",
      "text/plain": [
       "<Figure size 360x360 with 1 Axes>"
      ]
     },
     "metadata": {},
     "output_type": "display_data"
    },
    {
     "name": "stdout",
     "output_type": "stream",
     "text": [
      "\n",
      "Class mopping the floor. Sample-Wise Acc: 0.961, Recall: 0.902, Precision: 0.809, F1: 0.853\n"
     ]
    },
    {
     "data": {
      "image/png": "[encoded data removed]",
      "text/plain": [
       "<Figure size 360x360 with 1 Axes>"
      ]
     },
     "metadata": {},
     "output_type": "display_data"
    },
    {
     "name": "stdout",
     "output_type": "stream",
     "text": [
      "\n",
      "Class sweeping the floor. Sample-Wise Acc: 0.967, Recall: 0.806, Precision: 0.926, F1: 0.862\n"
     ]
    },
    {
     "data": {
      "image/png": "[encoded data removed]",
      "text/plain": [
       "<Figure size 360x360 with 1 Axes>"
      ]
     },
     "metadata": {},
     "output_type": "display_data"
    },
    {
     "name": "stdout",
     "output_type": "stream",
     "text": [
      "\n",
      "Class walking. Sample-Wise Acc: 0.981, Recall: 0.864, Precision: 0.927, F1: 0.894\n"
     ]
    },
    {
     "data": {
      "image/png": "[encoded data removed]",
      "text/plain": [
       "<Figure size 360x360 with 1 Axes>"
      ]
     },
     "metadata": {},
     "output_type": "display_data"
    },
    {
     "name": "stdout",
     "output_type": "stream",
     "text": [
      "\n",
      "Class unknown. Sample-Wise Acc: 0.992, Recall: 0.982, Precision: 0.982, F1: 0.982\n"
     ]
    },
    {
     "data": {
      "image/png": "[encoded data removed]",
      "text/plain": [
       "<Figure size 360x360 with 1 Axes>"
      ]
     },
     "metadata": {},
     "output_type": "display_data"
    },
    {
     "name": "stdout",
     "output_type": "stream",
     "text": [
      "\n"
     ]
    }
   ],
   "source": [
    "Labels = Classes\n",
    "with torch.no_grad(): #Making sure that we don't update the gradient outside the training part\n",
    "        model.eval() #Putting model in evaluation mode so that things like dropout() are deactivated\n",
    "        model.to(device) #Moving the model to the appropriate device (CPU/CUDA/etc.)\n",
    "        \n",
    "        #Using the Forward direction of the model to get the Predictions (also returning the corresponding Targets in case there's suffling and X_Test isn't indexed the same)\n",
    "        Preds_prob, Preds, Targets = EvalPredict(model, device, Loader_Test)\n",
    "\n",
    "test_Acc, test_AUC, test_F1 = GetCategoricalMetrics(Preds_prob, Preds, Targets)\n",
    "print(f'Sample-wise Acc: {test_Acc * 100:.2f}%, AUC: {test_AUC:.2f}, F1: {test_F1:.2f}')\n",
    "print(f\"Class-wise  Acc: {ClassAccMulti(Targets, Preds, K_Length) * 100:.2f}%, Recall: {recall_score(Targets, Preds, average = 'weighted'):.3f}, Precision: {precision_score(Targets, Preds, average = 'weighted'):.3f}\\n\") #'micro', 'macro', 'weighted', 'samples'\n",
    "\n",
    "#Viewing the overall Categorical metrics and Plotting the Confusion Matrix\n",
    "PlotCategoricalMetrics(Preds, Targets, Labels, normalise = True, figsize = [17, 6.5])\n",
    "print(\"\")\n",
    "\n",
    "PrevFigSize = plt.rcParams['figure.figsize']\n",
    "plt.rcParams['figure.figsize'] = [5, 5]\n",
    "for k in range(K_Length):\n",
    "    PredClass = Preds   == k\n",
    "    TrueClass = Targets == k\n",
    "    print(f\"Class {Classes[k]}. Sample-Wise Acc: {np.mean(TrueClass == PredClass):.3f}, Recall: {recall_score(TrueClass, PredClass):.3f}, Precision: {precision_score(TrueClass, PredClass):.3f}, F1: {f1_score(TrueClass, PredClass):.3f}\")\n",
    "    RocCurveDisplay.from_predictions(TrueClass, Preds_prob[:, k])\n",
    "    plt.plot(np.linspace(0, 1, num = 20), np.linspace(0, 1, num = 20), 'b--')\n",
    "    plt.show()\n",
    "    print()\n",
    "plt.rcParams['figure.figsize'] = PrevFigSize\n",
    "#Sample-wise Acc: 94.01%, AUC: 0.99, F1: 0.94"
   ]
  },
  {
   "cell_type": "markdown",
   "metadata": {
    "heading_collapsed": true
   },
   "source": [
    "# Saving the Model"
   ]
  },
  {
   "cell_type": "code",
   "execution_count": null,
   "metadata": {
    "hidden": true
   },
   "outputs": [],
   "source": [
    "print(\"path_root:\", path_root, \"\\n\")\n",
    "\n",
    "SaveFolder = (f'{path_root}/Models/' +\n",
    "              f'{datetime.now(timezone(\"Europe/Athens\")).strftime(\"%Y-%m-%d %H-%M\")}' +\n",
    "              f\", Valid Loss {valid_loss:.2f}\" +\n",
    "              f' Acc {valid_metric1:.2f}' +\n",
    "              f', Test Acc {test_Acc:.2f}' +\n",
    "              f' AUC {test_AUC:.2f}' +\n",
    "              f' F1 {test_F1:.2f}'\n",
    ")\n",
    "print(SaveFolder)\n",
    "os.makedirs(SaveFolder, exist_ok = True)"
   ]
  },
  {
   "cell_type": "code",
   "execution_count": 98,
   "metadata": {
    "hidden": true
   },
   "outputs": [],
   "source": [
    "if isnotebook:\n",
    "    i = 2"
   ]
  },
  {
   "cell_type": "code",
   "execution_count": null,
   "metadata": {
    "hidden": true,
    "scrolled": false
   },
   "outputs": [],
   "source": [
    "if isnotebook:\n",
    "    i += 1\n",
    "    print(i)\n",
    "    display(_ih[i])"
   ]
  },
  {
   "cell_type": "code",
   "execution_count": 102,
   "metadata": {
    "hidden": true
   },
   "outputs": [],
   "source": [
    "if isnotebook:\n",
    "    PossibleNetClass = _ih[i]"
   ]
  },
  {
   "cell_type": "code",
   "execution_count": 172,
   "metadata": {
    "hidden": true
   },
   "outputs": [
    {
     "name": "stdout",
     "output_type": "stream",
     "text": [
      "#Dynamic with \"layer.append()\"\n",
      "Done!\n"
     ]
    }
   ],
   "source": [
    "### Saving the Model ###\n",
    "QuoteIfNone = lambda x: f\"'{x}'\" if x is not None else \"None\"\n",
    "\n",
    "#Saving the Parameters\n",
    "WriteText(\n",
    "    f\"#PyTorch v{torch.__version__}\\n#CUDA device available: {IS_GPU_AVAILABLE}\\n{f'#{torch.cuda.device_count()} devices available' if torch.cuda.is_available() else ''}\\n#device = {device}\\n\" +\n",
    "    f\"#isnotebook = {isnotebook}\\n#isgooglecolab = {isgooglecolab}\\n#shell = {shell}\\n\\n\" +\n",
    "    f\"layer_type = {json.dumps(layer_type)}\\nSeed = {Seed}\\nnum_units = {json.dumps(num_units)}\\nactivation = {json.dumps(activation)}\\ndropout = {json.dumps(dropout)}\\nusebias = {usebias}\\n\" +\n",
    "    f\"batch_size = {batch_size}\\n\" +\n",
    "    f\"K_Length = {K_Length}\\nD_Length = {D_Length}\\nH1 = {H1}\\nW1 = {W1}\\nconv_input_size = {conv_input_size}\\ninput_size = {input_size}\\noutput_size = {output_size}\\nhn1 = {hn1}\\n\\n\" +\n",
    "    f\"l2_lamda = {l2_lamda}\\nmu = {mu}\\nbatchnorm_momentum = {batchnorm_momentum}\\nconv_pool_size = {conv_pool_size}\\nconv_pool_stride = {conv_pool_stride}\\n\" +\n",
    "    f\"conv_pool_padding = {conv_pool_padding}\\nconv_pool_dilation = {conv_pool_dilation}\\n\" +\n",
    "    f\"\\nPrintInfoEverynEpochs = {PrintInfoEverynEpochs}\\n\" +\n",
    "    f\"\\ntrain_best_loss = {train_best_loss}\\nvalid_best_loss = {valid_best_loss}\\nReluAlpha = {ReluAlpha}\\nEluAlpha = {EluAlpha}\\n\" +\n",
    "    f\"valid_metric1 = {valid_metric1}\\nvalid_metric2 = {valid_metric2}\\nvalid_metric3 = {valid_metric3}\\n\"\n",
    "    f\"valid_best_metric1 = {valid_best_metric1}\\nvalid_best_metric2 = {valid_best_metric2}\\nvalid_best_metric3 = {valid_best_metric3}\\n\",\n",
    "f\"{SaveFolder}/Parameters.py\")\n",
    "\n",
    "#Saving the Losses so we can plot them in the future\n",
    "WriteText(json.dumps(train_losses.tolist())  , f\"{SaveFolder}/Metrics/train_losses.json\"  )\n",
    "WriteText(json.dumps(valid_losses.tolist())  , f\"{SaveFolder}/Metrics/valid_losses.json\"  )\n",
    "WriteText(json.dumps(train_metric1s.tolist()), f\"{SaveFolder}/Metrics/train_metric1s.json\")\n",
    "WriteText(json.dumps(train_metric2s.tolist()), f\"{SaveFolder}/Metrics/train_metric2s.json\")\n",
    "WriteText(json.dumps(train_metric3s.tolist()), f\"{SaveFolder}/Metrics/train_metric3s.json\")\n",
    "WriteText(json.dumps(valid_metric1s.tolist()), f\"{SaveFolder}/Metrics/valid_metric1s.json\")\n",
    "WriteText(json.dumps(valid_metric2s.tolist()), f\"{SaveFolder}/Metrics/valid_metric2s.json\")\n",
    "WriteText(json.dumps(valid_metric3s.tolist()), f\"{SaveFolder}/Metrics/valid_metric3s.json\")\n",
    "\n",
    "#Saving the Optimiser\n",
    "WriteText(optimiser, f\"{SaveFolder}/Optimiser.txt\")\n",
    "#Saving the optimiser's parameters\n",
    "torch.save(optimiser.state_dict(), f\"{SaveFolder}/optimiser_dict.pt\")\n",
    "\n",
    "#Saving the Criterion\n",
    "SaveVariable(criterion, f\"{SaveFolder}/criterion.pt\")\n",
    "#Saving the Criterion's name (easier to see by looking at the file)\n",
    "WriteText(criterion, f\"{SaveFolder}/criterion.txt\")\n",
    "\n",
    "#Saving the Net() Class\n",
    "if isnotebook:\n",
    "    print(PossibleNetClass.partition('\\n')[0])\n",
    "    WriteText(PossibleNetClass, f\"{SaveFolder}/Net.py\")\n",
    "else:\n",
    "    WriteText(f\"#Net() not found.\\n#Probably not a notebook?\\n\", f\"{SaveFolder}/Net.py\")\n",
    "\n",
    "#Saving Model itself\n",
    "torch.save(model.state_dict(), f\"{SaveFolder}/model_dict.pt\")\n",
    "#Saving Model itself\n",
    "SaveVariableDill(model, f\"{SaveFolder}/model.pt\")\n",
    "\n",
    "#Saving the Scheduler\n",
    "SaveVariableDill(scheduler, f\"{SaveFolder}/scheduler.pt\")\n",
    "print(\"Done!\")"
   ]
  },
  {
   "cell_type": "markdown",
   "metadata": {},
   "source": [
    "# Loading the Model"
   ]
  },
  {
   "cell_type": "code",
   "execution_count": 190,
   "metadata": {},
   "outputs": [],
   "source": [
    "SaveFolder = f\"{path_root}/Models/2022-09-11 19-38, Valid Loss 1.36 Acc 0.92, Test Acc 0.94 AUC 0.99 F1 0.94\""
   ]
  },
  {
   "cell_type": "code",
   "execution_count": 191,
   "metadata": {},
   "outputs": [
    {
     "name": "stdout",
     "output_type": "stream",
     "text": [
      "Done!\n"
     ]
    }
   ],
   "source": [
    "#Loading the Parameters\n",
    "exec(ReadText(f\"{SaveFolder}/Parameters.py\"))\n",
    "\n",
    "#Loading the Criterion\n",
    "criterion = LoadVariable(f\"{SaveFolder}/criterion.pt\")\n",
    "\n",
    "#Loading Model itself\n",
    "model = LoadVariableDill(f\"{SaveFolder}/model.pt\").to(device)\n",
    "model.eval() #Putting model in evaluation mode so that things like dropout() are deactivated\n",
    "\n",
    "#Loading the Optimiser\n",
    "optimiser = torch.optim.AdamW(model.parameters(), lr = 0.1, betas = (0.9, 0.9), weight_decay = 0, amsgrad = False)\n",
    "optimiser.load_state_dict(torch.load(f\"{SaveFolder}/optimiser_dict.pt\"))\n",
    "\n",
    "#Loading the Scheduler\n",
    "scheduler = LoadVariableDill(f\"{SaveFolder}/scheduler.pt\")\n",
    "print(\"Done!\")"
   ]
  },
  {
   "cell_type": "code",
   "execution_count": 192,
   "metadata": {},
   "outputs": [
    {
     "name": "stdout",
     "output_type": "stream",
     "text": [
      "Done!\n"
     ]
    }
   ],
   "source": [
    "train_losses   = np.array(json.loads(ReadText(f\"{SaveFolder}/Metrics/train_losses.json\")))\n",
    "valid_losses   = np.array(json.loads(ReadText(f\"{SaveFolder}/Metrics/valid_losses.json\")))\n",
    "train_metric1s = np.array(json.loads(ReadText(f\"{SaveFolder}/Metrics/train_metric1s.json\")))\n",
    "train_metric2s = np.array(json.loads(ReadText(f\"{SaveFolder}/Metrics/train_metric2s.json\")))\n",
    "train_metric3s = np.array(json.loads(ReadText(f\"{SaveFolder}/Metrics/train_metric3s.json\")))\n",
    "valid_metric1s = np.array(json.loads(ReadText(f\"{SaveFolder}/Metrics/valid_metric1s.json\")))\n",
    "valid_metric2s = np.array(json.loads(ReadText(f\"{SaveFolder}/Metrics/valid_metric2s.json\")))\n",
    "valid_metric3s = np.array(json.loads(ReadText(f\"{SaveFolder}/Metrics/valid_metric3s.json\")))\n",
    "print(\"Done!\")"
   ]
  },
  {
   "cell_type": "code",
   "execution_count": 194,
   "metadata": {},
   "outputs": [
    {
     "name": "stdout",
     "output_type": "stream",
     "text": [
      "Done!\n"
     ]
    }
   ],
   "source": [
    "model = Net(K_Length, num_units, activation, dropout, usebias)\n",
    "\n",
    "if device != \"cpu\":\n",
    "    model.load_state_dict(torch.load(f\"{SaveFolder}/model_dict.pt\"))\n",
    "#     model = nn.DataParallel(model)\n",
    "else:\n",
    "    model.load_state_dict(torch.load(f\"{SaveFolder}/model_dict.pt\", map_location = torch.device(\"cpu\")))\n",
    "\n",
    "#model.load_state_dict(OrderedDict((k.replace(\"module.\", \"\"), v) for k, v in torch.load(f\"{SaveFolder}/model_dict.pt\", map_location = \"cpu\").items())) #De-DataParallel the model\n",
    "model.eval()\n",
    "print(\"Done!\")"
   ]
  },
  {
   "cell_type": "markdown",
   "metadata": {
    "heading_collapsed": true
   },
   "source": [
    "# Predicting on External Data"
   ]
  },
  {
   "cell_type": "code",
   "execution_count": 180,
   "metadata": {
    "hidden": true
   },
   "outputs": [
    {
     "name": "stdout",
     "output_type": "stream",
     "text": [
      "Results saved on: D:\\GiannisM\\Downloads\\Exercises\\Fiver\\100. frotribe FFNN Multiclass Classification/Exports/Results.csv\n"
     ]
    },
    {
     "data": {
      "text/html": [
       "<div>\n",
       "<style scoped>\n",
       "    .dataframe tbody tr th:only-of-type {\n",
       "        vertical-align: middle;\n",
       "    }\n",
       "\n",
       "    .dataframe tbody tr th {\n",
       "        vertical-align: top;\n",
       "    }\n",
       "\n",
       "    .dataframe thead th {\n",
       "        text-align: right;\n",
       "    }\n",
       "</style>\n",
       "<table border=\"1\" class=\"dataframe\">\n",
       "  <thead>\n",
       "    <tr style=\"text-align: right;\">\n",
       "      <th></th>\n",
       "      <th>Id</th>\n",
       "      <th>Class</th>\n",
       "    </tr>\n",
       "  </thead>\n",
       "  <tbody>\n",
       "    <tr>\n",
       "      <th>0</th>\n",
       "      <td>0</td>\n",
       "      <td>1</td>\n",
       "    </tr>\n",
       "    <tr>\n",
       "      <th>1</th>\n",
       "      <td>1</td>\n",
       "      <td>1</td>\n",
       "    </tr>\n",
       "    <tr>\n",
       "      <th>2</th>\n",
       "      <td>2</td>\n",
       "      <td>1</td>\n",
       "    </tr>\n",
       "    <tr>\n",
       "      <th>3</th>\n",
       "      <td>3</td>\n",
       "      <td>1</td>\n",
       "    </tr>\n",
       "    <tr>\n",
       "      <th>4</th>\n",
       "      <td>4</td>\n",
       "      <td>1</td>\n",
       "    </tr>\n",
       "    <tr>\n",
       "      <th>...</th>\n",
       "      <td>...</td>\n",
       "      <td>...</td>\n",
       "    </tr>\n",
       "    <tr>\n",
       "      <th>4830</th>\n",
       "      <td>4830</td>\n",
       "      <td>8</td>\n",
       "    </tr>\n",
       "    <tr>\n",
       "      <th>4831</th>\n",
       "      <td>4831</td>\n",
       "      <td>8</td>\n",
       "    </tr>\n",
       "    <tr>\n",
       "      <th>4832</th>\n",
       "      <td>4832</td>\n",
       "      <td>8</td>\n",
       "    </tr>\n",
       "    <tr>\n",
       "      <th>4833</th>\n",
       "      <td>4833</td>\n",
       "      <td>8</td>\n",
       "    </tr>\n",
       "    <tr>\n",
       "      <th>4834</th>\n",
       "      <td>4834</td>\n",
       "      <td>8</td>\n",
       "    </tr>\n",
       "  </tbody>\n",
       "</table>\n",
       "<p>4835 rows × 2 columns</p>\n",
       "</div>"
      ],
      "text/plain": [
       "        Id  Class\n",
       "0        0      1\n",
       "1        1      1\n",
       "2        2      1\n",
       "3        3      1\n",
       "4        4      1\n",
       "...    ...    ...\n",
       "4830  4830      8\n",
       "4831  4831      8\n",
       "4832  4832      8\n",
       "4833  4833      8\n",
       "4834  4834      8\n",
       "\n",
       "[4835 rows x 2 columns]"
      ]
     },
     "execution_count": 180,
     "metadata": {},
     "output_type": "execute_result"
    }
   ],
   "source": [
    "External_DF = pd.read_csv(f\"{path_data}/11-16 (1).csv\", header = None).iloc[:, 1:]\n",
    "X_External = External_DF.values.astype(np.float32)\n",
    "X_External = Scale(X_External, *scaler_mean_sd)\n",
    "\n",
    "MYDataset = TensorDataset(torch.from_numpy(X_External))\n",
    "MYDataLoader = torch.utils.data.DataLoader(\n",
    "    MYDataset,\n",
    "    batch_size = batch_size,\n",
    "    pin_memory = True\n",
    ")\n",
    "\n",
    "model.to(device)\n",
    "model.eval()\n",
    "with torch.no_grad():\n",
    "    TestPredictions = []\n",
    "    for inputs in MYDataLoader:\n",
    "        TestPredictions.append(model(inputs[0].to(device)))\n",
    "    _, TestPredictions = torch.max(nn.Softmax(dim = 1)(torch.cat(TestPredictions)), 1)\n",
    "    TestPredictions += 1\n",
    "    TestResults = pd.DataFrame(TestPredictions.cpu().numpy()).reset_index()\n",
    "    TestResults.columns = [\"Id\", \"Class\"]\n",
    "\n",
    "FileExportPath = f\"{path_root}/Exports/Results.csv\"\n",
    "TestResults.to_csv(FileExportPath, sep = ',', header = True, index = False)\n",
    "print(f\"Results saved on: {FileExportPath}\")\n",
    "\n",
    "TestResults"
   ]
  },
  {
   "cell_type": "code",
   "execution_count": null,
   "metadata": {
    "hidden": true
   },
   "outputs": [],
   "source": []
  }
 ],
 "metadata": {
  "hide_input": false,
  "kernelspec": {
   "display_name": "Python [conda env:pyt38con] *",
   "language": "python",
   "name": "conda-env-pyt38con-py"
  },
  "language_info": {
   "codemirror_mode": {
    "name": "ipython",
    "version": 3
   },
   "file_extension": ".py",
   "mimetype": "text/x-python",
   "name": "python",
   "nbconvert_exporter": "python",
   "pygments_lexer": "ipython3",
   "version": "3.8.13"
  },
  "toc": {
   "base_numbering": 1,
   "nav_menu": {},
   "number_sections": true,
   "sideBar": true,
   "skip_h1_title": false,
   "title_cell": "Table of Contents",
   "title_sidebar": "Contents",
   "toc_cell": false,
   "toc_position": {},
   "toc_section_display": true,
   "toc_window_display": false
  }
 },
 "nbformat": 4,
 "nbformat_minor": 4
}
